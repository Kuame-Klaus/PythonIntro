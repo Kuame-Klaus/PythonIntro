{
 "cells": [
  {
   "cell_type": "markdown",
   "id": "f11dbe9e",
   "metadata": {},
   "source": [
    "## Chapter 3"
   ]
  },
  {
   "cell_type": "code",
   "execution_count": 19,
   "id": "16518321",
   "metadata": {},
   "outputs": [],
   "source": [
    "import numpy as np\n",
    "import pandas as pd"
   ]
  },
  {
   "cell_type": "code",
   "execution_count": 20,
   "id": "4089fa14",
   "metadata": {},
   "outputs": [
    {
     "data": {
      "text/html": [
       "<div>\n",
       "<style scoped>\n",
       "    .dataframe tbody tr th:only-of-type {\n",
       "        vertical-align: middle;\n",
       "    }\n",
       "\n",
       "    .dataframe tbody tr th {\n",
       "        vertical-align: top;\n",
       "    }\n",
       "\n",
       "    .dataframe thead th {\n",
       "        text-align: right;\n",
       "    }\n",
       "</style>\n",
       "<table border=\"1\" class=\"dataframe\">\n",
       "  <thead>\n",
       "    <tr style=\"text-align: right;\">\n",
       "      <th></th>\n",
       "      <th>OrderID</th>\n",
       "      <th>PricePerItem</th>\n",
       "      <th>Quantity</th>\n",
       "      <th>ShippingDistance</th>\n",
       "      <th>CustomerID</th>\n",
       "    </tr>\n",
       "  </thead>\n",
       "  <tbody>\n",
       "    <tr>\n",
       "      <th>0</th>\n",
       "      <td>1</td>\n",
       "      <td>10</td>\n",
       "      <td>5</td>\n",
       "      <td>3.0</td>\n",
       "      <td>6671</td>\n",
       "    </tr>\n",
       "    <tr>\n",
       "      <th>1</th>\n",
       "      <td>2</td>\n",
       "      <td>10</td>\n",
       "      <td>10</td>\n",
       "      <td>84.0</td>\n",
       "      <td>8647</td>\n",
       "    </tr>\n",
       "    <tr>\n",
       "      <th>2</th>\n",
       "      <td>3</td>\n",
       "      <td>10</td>\n",
       "      <td>1</td>\n",
       "      <td>0.0</td>\n",
       "      <td>4075</td>\n",
       "    </tr>\n",
       "    <tr>\n",
       "      <th>3</th>\n",
       "      <td>4</td>\n",
       "      <td>10</td>\n",
       "      <td>10</td>\n",
       "      <td>92.0</td>\n",
       "      <td>8452</td>\n",
       "    </tr>\n",
       "    <tr>\n",
       "      <th>4</th>\n",
       "      <td>5</td>\n",
       "      <td>10</td>\n",
       "      <td>3</td>\n",
       "      <td>2.0</td>\n",
       "      <td>2621</td>\n",
       "    </tr>\n",
       "  </tbody>\n",
       "</table>\n",
       "</div>"
      ],
      "text/plain": [
       "   OrderID  PricePerItem  Quantity  ShippingDistance  CustomerID\n",
       "0        1            10         5               3.0        6671\n",
       "1        2            10        10              84.0        8647\n",
       "2        3            10         1               0.0        4075\n",
       "3        4            10        10              92.0        8452\n",
       "4        5            10         3               2.0        2621"
      ]
     },
     "execution_count": 20,
     "metadata": {},
     "output_type": "execute_result"
    }
   ],
   "source": [
    "# Import .csv and create df\n",
    "df = pd.read_csv(\"C:\\\\Users\\\\WY343EH\\\\Downloads\\\\Projects\\\\Python\\\\Python Fundamentals - Learner Files\\\\C3 - Analyzing Data\\\\3 - Chapter Exercise\\\\Chapter Exercise Data.csv\")\n",
    "\n",
    "# Fill na values with zeros in df\n",
    "df = df.fillna(0)\n",
    "df.head()"
   ]
  },
  {
   "cell_type": "markdown",
   "id": "d0f95c7f",
   "metadata": {},
   "source": [
    "1. John realized that he wanted to add the amount he would make per order onto his DataFrame. Create a new column that displays the amount he would make per order."
   ]
  },
  {
   "cell_type": "code",
   "execution_count": 21,
   "id": "5c329c7c",
   "metadata": {},
   "outputs": [
    {
     "data": {
      "text/html": [
       "<div>\n",
       "<style scoped>\n",
       "    .dataframe tbody tr th:only-of-type {\n",
       "        vertical-align: middle;\n",
       "    }\n",
       "\n",
       "    .dataframe tbody tr th {\n",
       "        vertical-align: top;\n",
       "    }\n",
       "\n",
       "    .dataframe thead th {\n",
       "        text-align: right;\n",
       "    }\n",
       "</style>\n",
       "<table border=\"1\" class=\"dataframe\">\n",
       "  <thead>\n",
       "    <tr style=\"text-align: right;\">\n",
       "      <th></th>\n",
       "      <th>OrderID</th>\n",
       "      <th>PricePerItem</th>\n",
       "      <th>Quantity</th>\n",
       "      <th>ShippingDistance</th>\n",
       "      <th>CustomerID</th>\n",
       "      <th>Value</th>\n",
       "    </tr>\n",
       "  </thead>\n",
       "  <tbody>\n",
       "    <tr>\n",
       "      <th>0</th>\n",
       "      <td>1</td>\n",
       "      <td>10</td>\n",
       "      <td>5</td>\n",
       "      <td>3.0</td>\n",
       "      <td>6671</td>\n",
       "      <td>50</td>\n",
       "    </tr>\n",
       "    <tr>\n",
       "      <th>1</th>\n",
       "      <td>2</td>\n",
       "      <td>10</td>\n",
       "      <td>10</td>\n",
       "      <td>84.0</td>\n",
       "      <td>8647</td>\n",
       "      <td>100</td>\n",
       "    </tr>\n",
       "    <tr>\n",
       "      <th>2</th>\n",
       "      <td>3</td>\n",
       "      <td>10</td>\n",
       "      <td>1</td>\n",
       "      <td>0.0</td>\n",
       "      <td>4075</td>\n",
       "      <td>10</td>\n",
       "    </tr>\n",
       "    <tr>\n",
       "      <th>3</th>\n",
       "      <td>4</td>\n",
       "      <td>10</td>\n",
       "      <td>10</td>\n",
       "      <td>92.0</td>\n",
       "      <td>8452</td>\n",
       "      <td>100</td>\n",
       "    </tr>\n",
       "    <tr>\n",
       "      <th>4</th>\n",
       "      <td>5</td>\n",
       "      <td>10</td>\n",
       "      <td>3</td>\n",
       "      <td>2.0</td>\n",
       "      <td>2621</td>\n",
       "      <td>30</td>\n",
       "    </tr>\n",
       "  </tbody>\n",
       "</table>\n",
       "</div>"
      ],
      "text/plain": [
       "   OrderID  PricePerItem  Quantity  ShippingDistance  CustomerID  Value\n",
       "0        1            10         5               3.0        6671     50\n",
       "1        2            10        10              84.0        8647    100\n",
       "2        3            10         1               0.0        4075     10\n",
       "3        4            10        10              92.0        8452    100\n",
       "4        5            10         3               2.0        2621     30"
      ]
     },
     "execution_count": 21,
     "metadata": {},
     "output_type": "execute_result"
    }
   ],
   "source": [
    "df['Value'] = df['PricePerItem'] * df['Quantity']\n",
    "df.head()"
   ]
  },
  {
   "cell_type": "markdown",
   "id": "ab37c12b",
   "metadata": {},
   "source": [
    "2. John wants to send out thank you cards to the customers that spent at least $50 on their order. Filter the DataFrame for the list of customer IDs that fit this criteria."
   ]
  },
  {
   "cell_type": "code",
   "execution_count": 22,
   "id": "8fbf4ddf",
   "metadata": {},
   "outputs": [
    {
     "data": {
      "text/plain": [
       "0      6671\n",
       "1      8647\n",
       "3      8452\n",
       "5      9160\n",
       "7       809\n",
       "       ... \n",
       "993    1782\n",
       "994    6587\n",
       "995    6691\n",
       "996    9782\n",
       "998    5319\n",
       "Name: CustomerID, Length: 600, dtype: int64"
      ]
     },
     "execution_count": 22,
     "metadata": {},
     "output_type": "execute_result"
    }
   ],
   "source": [
    "AtLeaast50 = df[df['Value'] >= 50]\n",
    "AtLeaast50['CustomerID']"
   ]
  },
  {
   "cell_type": "markdown",
   "id": "55f4ef7e",
   "metadata": {},
   "source": [
    "3. John wants to send out a gift card for every 300th customer. Find the list of CustomerIDs that qualify for a gift card."
   ]
  },
  {
   "cell_type": "code",
   "execution_count": 23,
   "id": "5246000c",
   "metadata": {
    "scrolled": true
   },
   "outputs": [
    {
     "data": {
      "text/plain": [
       "299     198\n",
       "599    7682\n",
       "899    1549\n",
       "Name: CustomerID, dtype: int64"
      ]
     },
     "execution_count": 23,
     "metadata": {},
     "output_type": "execute_result"
    }
   ],
   "source": [
    "C300th = df.iloc[[299,599,899],4]\n",
    "C300th"
   ]
  },
  {
   "cell_type": "markdown",
   "id": "4173e8ae",
   "metadata": {},
   "source": [
    "4. Find the average distance that a product travels when shipped."
   ]
  },
  {
   "cell_type": "code",
   "execution_count": 24,
   "id": "49f36419",
   "metadata": {},
   "outputs": [
    {
     "data": {
      "text/plain": [
       "np.float64(48.541)"
      ]
     },
     "execution_count": 24,
     "metadata": {},
     "output_type": "execute_result"
    }
   ],
   "source": [
    "df['ShippingDistance'].mean()"
   ]
  },
  {
   "cell_type": "markdown",
   "id": "6768f665",
   "metadata": {},
   "source": [
    "5. John recently hired a courier that delivers all his orders for a flat fee, so he no longer needs to know the shipping distance. Drop the shipping distance column."
   ]
  },
  {
   "cell_type": "code",
   "execution_count": 26,
   "id": "bd446ca4",
   "metadata": {},
   "outputs": [
    {
     "data": {
      "text/html": [
       "<div>\n",
       "<style scoped>\n",
       "    .dataframe tbody tr th:only-of-type {\n",
       "        vertical-align: middle;\n",
       "    }\n",
       "\n",
       "    .dataframe tbody tr th {\n",
       "        vertical-align: top;\n",
       "    }\n",
       "\n",
       "    .dataframe thead th {\n",
       "        text-align: right;\n",
       "    }\n",
       "</style>\n",
       "<table border=\"1\" class=\"dataframe\">\n",
       "  <thead>\n",
       "    <tr style=\"text-align: right;\">\n",
       "      <th></th>\n",
       "      <th>OrderID</th>\n",
       "      <th>PricePerItem</th>\n",
       "      <th>Quantity</th>\n",
       "      <th>CustomerID</th>\n",
       "      <th>Value</th>\n",
       "    </tr>\n",
       "  </thead>\n",
       "  <tbody>\n",
       "    <tr>\n",
       "      <th>0</th>\n",
       "      <td>1</td>\n",
       "      <td>10</td>\n",
       "      <td>5</td>\n",
       "      <td>6671</td>\n",
       "      <td>50</td>\n",
       "    </tr>\n",
       "    <tr>\n",
       "      <th>1</th>\n",
       "      <td>2</td>\n",
       "      <td>10</td>\n",
       "      <td>10</td>\n",
       "      <td>8647</td>\n",
       "      <td>100</td>\n",
       "    </tr>\n",
       "    <tr>\n",
       "      <th>2</th>\n",
       "      <td>3</td>\n",
       "      <td>10</td>\n",
       "      <td>1</td>\n",
       "      <td>4075</td>\n",
       "      <td>10</td>\n",
       "    </tr>\n",
       "    <tr>\n",
       "      <th>3</th>\n",
       "      <td>4</td>\n",
       "      <td>10</td>\n",
       "      <td>10</td>\n",
       "      <td>8452</td>\n",
       "      <td>100</td>\n",
       "    </tr>\n",
       "    <tr>\n",
       "      <th>4</th>\n",
       "      <td>5</td>\n",
       "      <td>10</td>\n",
       "      <td>3</td>\n",
       "      <td>2621</td>\n",
       "      <td>30</td>\n",
       "    </tr>\n",
       "    <tr>\n",
       "      <th>...</th>\n",
       "      <td>...</td>\n",
       "      <td>...</td>\n",
       "      <td>...</td>\n",
       "      <td>...</td>\n",
       "      <td>...</td>\n",
       "    </tr>\n",
       "    <tr>\n",
       "      <th>995</th>\n",
       "      <td>996</td>\n",
       "      <td>10</td>\n",
       "      <td>8</td>\n",
       "      <td>6691</td>\n",
       "      <td>80</td>\n",
       "    </tr>\n",
       "    <tr>\n",
       "      <th>996</th>\n",
       "      <td>997</td>\n",
       "      <td>10</td>\n",
       "      <td>9</td>\n",
       "      <td>9782</td>\n",
       "      <td>90</td>\n",
       "    </tr>\n",
       "    <tr>\n",
       "      <th>997</th>\n",
       "      <td>998</td>\n",
       "      <td>10</td>\n",
       "      <td>2</td>\n",
       "      <td>1096</td>\n",
       "      <td>20</td>\n",
       "    </tr>\n",
       "    <tr>\n",
       "      <th>998</th>\n",
       "      <td>999</td>\n",
       "      <td>10</td>\n",
       "      <td>9</td>\n",
       "      <td>5319</td>\n",
       "      <td>90</td>\n",
       "    </tr>\n",
       "    <tr>\n",
       "      <th>999</th>\n",
       "      <td>1000</td>\n",
       "      <td>10</td>\n",
       "      <td>4</td>\n",
       "      <td>8187</td>\n",
       "      <td>40</td>\n",
       "    </tr>\n",
       "  </tbody>\n",
       "</table>\n",
       "<p>1000 rows × 5 columns</p>\n",
       "</div>"
      ],
      "text/plain": [
       "     OrderID  PricePerItem  Quantity  CustomerID  Value\n",
       "0          1            10         5        6671     50\n",
       "1          2            10        10        8647    100\n",
       "2          3            10         1        4075     10\n",
       "3          4            10        10        8452    100\n",
       "4          5            10         3        2621     30\n",
       "..       ...           ...       ...         ...    ...\n",
       "995      996            10         8        6691     80\n",
       "996      997            10         9        9782     90\n",
       "997      998            10         2        1096     20\n",
       "998      999            10         9        5319     90\n",
       "999     1000            10         4        8187     40\n",
       "\n",
       "[1000 rows x 5 columns]"
      ]
     },
     "execution_count": 26,
     "metadata": {},
     "output_type": "execute_result"
    }
   ],
   "source": [
    "df = df.drop(['ShippingDistance'], axis=1)\n",
    "df"
   ]
  },
  {
   "cell_type": "markdown",
   "id": "c8fcc9f2",
   "metadata": {},
   "source": [
    "6. John wants to know from his orders what is the most popular order quantity amount. Find the count of each order quantity."
   ]
  },
  {
   "cell_type": "code",
   "execution_count": 28,
   "id": "73d2abf3",
   "metadata": {},
   "outputs": [
    {
     "data": {
      "text/plain": [
       "0    1\n",
       "Name: Quantity, dtype: int64"
      ]
     },
     "execution_count": 28,
     "metadata": {},
     "output_type": "execute_result"
    }
   ],
   "source": [
    "df['Quantity'].mode()"
   ]
  }
 ],
 "metadata": {
  "kernelspec": {
   "display_name": "Python 3 (ipykernel)",
   "language": "python",
   "name": "python3"
  },
  "language_info": {
   "codemirror_mode": {
    "name": "ipython",
    "version": 3
   },
   "file_extension": ".py",
   "mimetype": "text/x-python",
   "name": "python",
   "nbconvert_exporter": "python",
   "pygments_lexer": "ipython3",
   "version": "3.13.3"
  }
 },
 "nbformat": 4,
 "nbformat_minor": 5
}
