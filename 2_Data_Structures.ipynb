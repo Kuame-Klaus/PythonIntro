{
 "cells": [
  {
   "cell_type": "markdown",
   "metadata": {
    "id": "ReZRgvGr_Yg0"
   },
   "source": [
    "# Data Structures\n",
    "We've looked at variables and data types - now let's look at data strucutures. We'll examine `lists`, `tuples`, and `dictionaries`. We can use these to structure our data and variables together - which allows us to more easily load, clean, analyze, and visualize our data."
   ]
  },
  {
   "cell_type": "markdown",
   "metadata": {
    "id": "A_VYcUSVqzrq"
   },
   "source": [
    "## Lists\n",
    "A `list` is a group of data points collected in a sequence.  `Lists` are made with square brackets `[]`.  \n",
    "\n",
    "In the example below, it's important to have quotes to denote that the list items are strings.  Otherwise, Python will interpret these items as named variables."
   ]
  },
  {
   "cell_type": "code",
   "execution_count": 8,
   "metadata": {
    "colab": {
     "base_uri": "https://localhost:8080/"
    },
    "id": "UFlWXxtE_ghA",
    "outputId": "647964a0-054f-4ecb-d4a3-5cdf516306e3"
   },
   "outputs": [
    {
     "name": "stdout",
     "output_type": "stream",
     "text": [
      "['John', 'Rahul', 'Karina']\n"
     ]
    }
   ],
   "source": [
    "list_a = ['John', 'Rahul', 'Karina']\n",
    "print(list_a)"
   ]
  },
  {
   "cell_type": "markdown",
   "metadata": {
    "id": "0ixKta0Cpzw_"
   },
   "source": [
    "One of the main things that we'll want to do with a list is access the list items. We can do this by using the list index.\n",
    "\n",
    "The index of a list always starts at 0. Thus, Karina is the third item, or index 2, in the list."
   ]
  },
  {
   "cell_type": "code",
   "execution_count": 9,
   "metadata": {
    "colab": {
     "base_uri": "https://localhost:8080/",
     "height": 35
    },
    "id": "X0UFumGnp002",
    "outputId": "d159fa77-1bda-4b66-9821-076e1c2bf595"
   },
   "outputs": [
    {
     "data": {
      "text/plain": [
       "'Karina'"
      ]
     },
     "execution_count": 9,
     "metadata": {},
     "output_type": "execute_result"
    }
   ],
   "source": [
    "list_a[2]"
   ]
  },
  {
   "cell_type": "markdown",
   "metadata": {
    "id": "F2X0PbFBf_fA"
   },
   "source": [
    "A `negative index`, such as -1, references the first item at the end of the list. Calling a negative index can continue on from -1. For example, the third item from the end of the list is John."
   ]
  },
  {
   "cell_type": "code",
   "execution_count": 10,
   "metadata": {
    "colab": {
     "base_uri": "https://localhost:8080/",
     "height": 35
    },
    "id": "PXrwyoH9rZPo",
    "outputId": "c0163d48-b986-48de-9ef2-dfd5955302e5"
   },
   "outputs": [
    {
     "data": {
      "text/plain": [
       "'John'"
      ]
     },
     "execution_count": 10,
     "metadata": {},
     "output_type": "execute_result"
    }
   ],
   "source": [
    "list_a[-3]"
   ]
  },
  {
   "cell_type": "markdown",
   "metadata": {
    "id": "OWzv4zKkDYhY"
   },
   "source": [
    "Lists can contain any one data type and combinations of data types. In the following code block, list_b contains numeric data and list_c contains multiple data types."
   ]
  },
  {
   "cell_type": "code",
   "execution_count": 11,
   "metadata": {
    "colab": {
     "base_uri": "https://localhost:8080/"
    },
    "id": "uHbqKH_Ofotx",
    "outputId": "aaabb22b-46b3-4fa6-bcb2-ffc49d70fc42",
    "scrolled": true
   },
   "outputs": [
    {
     "name": "stdout",
     "output_type": "stream",
     "text": [
      "[1, 2, 3]\n",
      "[1, 'a', True, 2.34]\n"
     ]
    }
   ],
   "source": [
    "# Create a numeric list\n",
    "list_b = [1, 2, 3]\n",
    "print(list_b)\n",
    "\n",
    "# Create a mixed list\n",
    "list_c = [1, 'a', True, 2.34]\n",
    "print(list_c)"
   ]
  },
  {
   "cell_type": "markdown",
   "metadata": {
    "id": "UJ9u9onVsI7U"
   },
   "source": [
    "A list can also contain items other than single points of data. For example, lists can contain other lists. In the example below, list_d contains list_a as well as a further data point of 'Pavel' while list_e contains lists, integers, and string data."
   ]
  },
  {
   "cell_type": "code",
   "execution_count": 12,
   "metadata": {
    "colab": {
     "base_uri": "https://localhost:8080/"
    },
    "id": "XlYY3RlPehUz",
    "outputId": "1b272dae-d2d4-449b-acab-e3e40fc5ff1c"
   },
   "outputs": [
    {
     "name": "stdout",
     "output_type": "stream",
     "text": [
      "[[1, 'a', True, 2.34], 'Pavel']\n",
      "[[1, 'a', True, 2.34], [1, 2, 3], 1, 2, 9.45, 'a']\n"
     ]
    }
   ],
   "source": [
    "list_d = [list_c, 'Pavel']\n",
    "print(list_d)\n",
    "\n",
    "list_e = [list_c, list_b, 1,2,9.45,'a']\n",
    "print(list_e)"
   ]
  },
  {
   "cell_type": "markdown",
   "metadata": {
    "id": "Y75X9GLogS6n"
   },
   "source": [
    "We can also combine multiple lists together to form one larger list. Notice how this is different than creating a list of lists, list_f contains seven individual data points but contains no lists, as we saw when creating list_d in the above example."
   ]
  },
  {
   "cell_type": "code",
   "execution_count": 13,
   "metadata": {
    "colab": {
     "base_uri": "https://localhost:8080/"
    },
    "id": "bHK2hdSZeX0K",
    "outputId": "aba79ecc-c6d6-43de-f61e-590974d5faef"
   },
   "outputs": [
    {
     "name": "stdout",
     "output_type": "stream",
     "text": [
      "['John', 'Rahul', 'Karina', 1, 2, 3]\n"
     ]
    }
   ],
   "source": [
    "list_f = list_a + list_b\n",
    "print(list_f)"
   ]
  },
  {
   "cell_type": "markdown",
   "metadata": {
    "id": "zUIF6jqksGjJ"
   },
   "source": [
    "## Manipulating Lists\n",
    "The `sort()` function arranges list values in alphabetical or ascending order by default. However, we cannot sort lists that contain different types of data."
   ]
  },
  {
   "cell_type": "code",
   "execution_count": 14,
   "metadata": {
    "colab": {
     "base_uri": "https://localhost:8080/"
    },
    "id": "Jae1S_UpsT5b",
    "outputId": "33d1f8c5-e208-451f-a8be-f74ae08f1369"
   },
   "outputs": [
    {
     "name": "stdout",
     "output_type": "stream",
     "text": [
      "['John', 'Karina', 'Rahul']\n"
     ]
    }
   ],
   "source": [
    "# Sort a string list\n",
    "list_a.sort()\n",
    "print(list_a)"
   ]
  },
  {
   "cell_type": "code",
   "execution_count": 15,
   "metadata": {
    "colab": {
     "base_uri": "https://localhost:8080/"
    },
    "id": "bLiHaFYDykNF",
    "outputId": "b5f3ecf9-409e-4f8d-83bb-de1d32059493"
   },
   "outputs": [
    {
     "name": "stdout",
     "output_type": "stream",
     "text": [
      "[1, 2, 3]\n"
     ]
    }
   ],
   "source": [
    "# Sort a numeric list\n",
    "list_b.sort()\n",
    "print(list_b)"
   ]
  },
  {
   "cell_type": "code",
   "execution_count": 16,
   "metadata": {
    "colab": {
     "base_uri": "https://localhost:8080/",
     "height": 176
    },
    "id": "kQQC36LqykNG",
    "outputId": "6e376fc4-38dc-41e2-b827-f82914717069"
   },
   "outputs": [
    {
     "ename": "TypeError",
     "evalue": "'<' not supported between instances of 'str' and 'int'",
     "output_type": "error",
     "traceback": [
      "\u001b[31m---------------------------------------------------------------------------\u001b[39m",
      "\u001b[31mTypeError\u001b[39m                                 Traceback (most recent call last)",
      "\u001b[36mCell\u001b[39m\u001b[36m \u001b[39m\u001b[32mIn[16]\u001b[39m\u001b[32m, line 2\u001b[39m\n\u001b[32m      1\u001b[39m \u001b[38;5;66;03m# Sort a mixed list\u001b[39;00m\n\u001b[32m----> \u001b[39m\u001b[32m2\u001b[39m \u001b[43mlist_c\u001b[49m\u001b[43m.\u001b[49m\u001b[43msort\u001b[49m\u001b[43m(\u001b[49m\u001b[43m)\u001b[49m\n\u001b[32m      3\u001b[39m \u001b[38;5;28mprint\u001b[39m(list_c)\n",
      "\u001b[31mTypeError\u001b[39m: '<' not supported between instances of 'str' and 'int'"
     ]
    }
   ],
   "source": [
    "# Sort a mixed list\n",
    "list_c.sort()\n",
    "print(list_c)"
   ]
  },
  {
   "cell_type": "markdown",
   "metadata": {
    "id": "HZlI9isQfui9"
   },
   "source": [
    "If we want to sort a list in reverse order, from largest to smallest value, or reverse alphabetical order, we can use the reverse argument in the `sort()` function."
   ]
  },
  {
   "cell_type": "code",
   "execution_count": 17,
   "metadata": {
    "colab": {
     "base_uri": "https://localhost:8080/"
    },
    "id": "vzI_bok0DU6z",
    "outputId": "3d9d9eb7-f559-4826-8864-553e5fe0103d"
   },
   "outputs": [
    {
     "name": "stdout",
     "output_type": "stream",
     "text": [
      "['Rahul', 'Karina', 'John']\n"
     ]
    }
   ],
   "source": [
    "# Sort a string list in reverse alphabetical order\n",
    "list_a.sort(reverse=True)\n",
    "print(list_a)"
   ]
  },
  {
   "cell_type": "code",
   "execution_count": 18,
   "metadata": {
    "colab": {
     "base_uri": "https://localhost:8080/"
    },
    "id": "oVM08YpJykNG",
    "outputId": "2e887d4f-f6d4-4f61-acec-206a6af19285"
   },
   "outputs": [
    {
     "name": "stdout",
     "output_type": "stream",
     "text": [
      "[3, 2, 1]\n"
     ]
    }
   ],
   "source": [
    "# Sort a numeric list in descending order\n",
    "list_b.sort(reverse=True)\n",
    "print(list_b)"
   ]
  },
  {
   "cell_type": "markdown",
   "metadata": {
    "id": "iW9WX4LpCr7o"
   },
   "source": [
    "A list is mutable, which means that we can edit and update our lists. This is an important point to note - as this ability to update, edit, and delete list items is a benefit of choosing to use this type of data structure."
   ]
  },
  {
   "cell_type": "code",
   "execution_count": 19,
   "metadata": {
    "colab": {
     "base_uri": "https://localhost:8080/"
    },
    "id": "V7zDH12wCyz9",
    "outputId": "f0cf2c5d-ce89-45eb-defd-f4e0b061540b"
   },
   "outputs": [
    {
     "name": "stdout",
     "output_type": "stream",
     "text": [
      "['Rahul', 'Karina', 'John']\n"
     ]
    }
   ],
   "source": [
    "# list_a in reverse sort order\n",
    "print(list_a)"
   ]
  },
  {
   "cell_type": "markdown",
   "metadata": {
    "id": "L9MxPCpxykNG"
   },
   "source": [
    "We can add additional items to a list using the `append()` function."
   ]
  },
  {
   "cell_type": "code",
   "execution_count": 20,
   "metadata": {
    "colab": {
     "base_uri": "https://localhost:8080/"
    },
    "id": "IeMexKsUykNG",
    "outputId": "da0aafa1-533a-41a3-9809-376181eaf106"
   },
   "outputs": [
    {
     "name": "stdout",
     "output_type": "stream",
     "text": [
      "['Rahul', 'Karina', 'John', 'Rosie']\n"
     ]
    }
   ],
   "source": [
    "# Append a new item, 'Rosie', to the list\n",
    "list_a.append('Rosie')\n",
    "print(list_a)"
   ]
  },
  {
   "cell_type": "markdown",
   "metadata": {
    "id": "BNyHeN2bykNG"
   },
   "source": [
    "Stating the index of a list with an `=` sign replaces the value within that index."
   ]
  },
  {
   "cell_type": "code",
   "execution_count": 21,
   "metadata": {
    "colab": {
     "base_uri": "https://localhost:8080/"
    },
    "id": "9lpI1QujykNG",
    "outputId": "233623c2-18a6-499d-821c-76289fd065af"
   },
   "outputs": [
    {
     "name": "stdout",
     "output_type": "stream",
     "text": [
      "['Rahul', 'Oscar', 'John', 'Rosie']\n"
     ]
    }
   ],
   "source": [
    "# Replace the second list item, 'Rahul', with 'Oscar'\n",
    "list_a[1] = 'Oscar'\n",
    "print(list_a)"
   ]
  },
  {
   "cell_type": "markdown",
   "metadata": {
    "id": "geu0PcszykNG"
   },
   "source": [
    " `'del'` removes the value within the list and realigns their respective indexes."
   ]
  },
  {
   "cell_type": "code",
   "execution_count": 22,
   "metadata": {
    "colab": {
     "base_uri": "https://localhost:8080/"
    },
    "id": "NQo1qiVxykNG",
    "outputId": "2417d690-99b3-4e5d-eabc-7a1e483c6391"
   },
   "outputs": [
    {
     "name": "stdout",
     "output_type": "stream",
     "text": [
      "['Rahul', 'Oscar', 'John']\n"
     ]
    }
   ],
   "source": [
    "# Delete 'John' from the list\n",
    "del list_a[3]\n",
    "print(list_a)"
   ]
  },
  {
   "cell_type": "markdown",
   "metadata": {
    "id": "2FC_XAsaq6Iy"
   },
   "source": [
    "## Tuples\n",
    "A tuple is a collection of values separated by comma and enclosed in `()`. It can contain all of the same items as a list: different data types as well as lists and tuples themselves."
   ]
  },
  {
   "cell_type": "code",
   "execution_count": null,
   "metadata": {
    "id": "4ym9IYrSq5pP"
   },
   "outputs": [],
   "source": [
    "# Create a string tuple\n",
    "tuple_a = ('a', 'b', 'c')\n",
    "print(tuple_a)"
   ]
  },
  {
   "cell_type": "code",
   "execution_count": null,
   "metadata": {
    "id": "ca_VwDUCykNH"
   },
   "outputs": [],
   "source": [
    "# Create a numeric tuple\n",
    "tuple_b = (1, 2, 3)\n",
    "print(tuple_b)"
   ]
  },
  {
   "cell_type": "code",
   "execution_count": null,
   "metadata": {
    "id": "XrGbvsjmykNH"
   },
   "outputs": [],
   "source": [
    "# Create a mixed tuple\n",
    "tuple_c = (1, 'a', True, 2.56)\n",
    "print(tuple_c)"
   ]
  },
  {
   "cell_type": "code",
   "execution_count": null,
   "metadata": {
    "id": "7V3nto94ykNH"
   },
   "outputs": [],
   "source": [
    "# Create a tuple of tuples\n",
    "tuple_d = \n",
    "print(tuple_d)"
   ]
  },
  {
   "cell_type": "markdown",
   "metadata": {
    "id": "amFcT7LQ5sDx"
   },
   "source": [
    "As well as tuples containing lists, lists can also contain tuples."
   ]
  },
  {
   "cell_type": "code",
   "execution_count": null,
   "metadata": {
    "id": "wWsY8Jyu63fA"
   },
   "outputs": [],
   "source": [
    "list_g ="
   ]
  },
  {
   "cell_type": "markdown",
   "metadata": {
    "id": "S4IN6oAo8zVa"
   },
   "source": [
    "Similar to how we combined multiple lists into a larger list, we can do the same thing with tuples."
   ]
  },
  {
   "cell_type": "code",
   "execution_count": null,
   "metadata": {
    "id": "5O6fkO9W87EC"
   },
   "outputs": [],
   "source": [
    "tuple_e ="
   ]
  },
  {
   "cell_type": "markdown",
   "metadata": {
    "id": "mM7Pf6f931ve"
   },
   "source": [
    "As we've seen, tuples are similar to lists with one key difference: they are immutable, meaning they cannot be changed. This is important to note, as it can be a benefit of choosing this type of data structure - ensuring that the data can never be altered or deleted."
   ]
  },
  {
   "cell_type": "code",
   "execution_count": null,
   "metadata": {
    "id": "rooWd3dy302b"
   },
   "outputs": [],
   "source": [
    "# Append a new item, 'a', to the tuple\n",
    "tuple_a\n",
    "print(tuple_a)"
   ]
  },
  {
   "cell_type": "code",
   "execution_count": null,
   "metadata": {
    "id": "ecsXyzj1ykNI"
   },
   "outputs": [],
   "source": [
    "# Replace the second tuple item\n",
    "tuple_a\n",
    "print(tuple_a)"
   ]
  },
  {
   "cell_type": "code",
   "execution_count": null,
   "metadata": {
    "id": "VVcZqOvhykNI"
   },
   "outputs": [],
   "source": [
    "# Delete an item from the tuple\n",
    "tuple_a\n",
    "print(tuple_a)"
   ]
  },
  {
   "cell_type": "markdown",
   "metadata": {
    "id": "4WWxMe0kx2B-"
   },
   "source": [
    "## Dictionaries\n",
    "A dictionary is a collection of unordered key value pairs and use `{}`. Dictionaries are mutable, meaning that they can be edited, and can be called by both their key or index. We can use the key as an index in the dictionary to return the values associated with that key."
   ]
  },
  {
   "cell_type": "code",
   "execution_count": 24,
   "metadata": {
    "id": "G2LsI_IIykNI"
   },
   "outputs": [],
   "source": [
    "# A dictionary containing the first name, last name, and age for one person\n",
    "dict_a = {'first': 'Eric', 'last': 'Asied-Akrofi', 'Age': 24}"
   ]
  },
  {
   "cell_type": "code",
   "execution_count": 29,
   "metadata": {
    "id": "LgNoyWzzQw-h"
   },
   "outputs": [
    {
     "data": {
      "text/plain": [
       "24"
      ]
     },
     "execution_count": 29,
     "metadata": {},
     "output_type": "execute_result"
    }
   ],
   "source": [
    "dict_a['first']\n",
    "dict_a['Age']"
   ]
  },
  {
   "cell_type": "markdown",
   "metadata": {
    "id": "p3FniLNHykNI"
   },
   "source": [
    "Dictionaries do not allow duplicates: all key value pairs must be unique. This is different from a list, that can contain duplicate values."
   ]
  },
  {
   "cell_type": "code",
   "execution_count": 27,
   "metadata": {
    "id": "byLrJiT3ykNI"
   },
   "outputs": [
    {
     "data": {
      "text/plain": [
       "['Frank', 'Frank']"
      ]
     },
     "execution_count": 27,
     "metadata": {},
     "output_type": "execute_result"
    }
   ],
   "source": [
    "# A list containing duplicate values\n",
    "list_g = ['Frank', 'Frank']\n",
    "list_g"
   ]
  },
  {
   "cell_type": "code",
   "execution_count": 30,
   "metadata": {
    "id": "P6fEdycWykNI"
   },
   "outputs": [
    {
     "data": {
      "text/plain": [
       "{'first': 'Eric', 'last': 'Asied-Akrofi', 'Age': 24}"
      ]
     },
     "execution_count": 30,
     "metadata": {},
     "output_type": "execute_result"
    }
   ],
   "source": [
    "# A dictionary with a duplicate key and value pair\n",
    "dict_b = {'first': 'Eric','first': 'Eric', 'last': 'Asied-Akrofi', 'Age': 24}\n",
    "dict_b"
   ]
  },
  {
   "cell_type": "code",
   "execution_count": 31,
   "metadata": {
    "id": "FE_mDBP9ykNI"
   },
   "outputs": [
    {
     "data": {
      "text/plain": [
       "{'first': 'EricKlaus', 'last': 'Asied-Akrofi', 'Age': 24}"
      ]
     },
     "execution_count": 31,
     "metadata": {},
     "output_type": "execute_result"
    }
   ],
   "source": [
    "# A dictionary with a duplicate key, only the last value gets printed\n",
    "dict_c = {'first': 'Eric','first': 'EricKlaus', 'last': 'Asied-Akrofi', 'Age': 24}\n",
    "dict_c"
   ]
  },
  {
   "cell_type": "markdown",
   "metadata": {
    "id": "XRu3IZm5MaVi"
   },
   "source": [
    "A common method for creating dictionaries is using lists. The list name is the key, and the list items are the values."
   ]
  },
  {
   "cell_type": "code",
   "execution_count": 36,
   "metadata": {
    "id": "4C6nq21CALni"
   },
   "outputs": [
    {
     "data": {
      "text/plain": [
       "{'sales': [100, 200, 240, 400, 100, 500],\n",
       " 'stores': ['Store A', 'Store B', 'Store A', 'Store C', 'Store D', 'Store B']}"
      ]
     },
     "execution_count": 36,
     "metadata": {},
     "output_type": "execute_result"
    }
   ],
   "source": [
    "sales = [100, 200, 240, 400, 100, 500]\n",
    "stores = ['Store A', 'Store B', 'Store A', 'Store C', 'Store D', 'Store B']\n",
    "\n",
    "dict_sales={'sales': sales, 'stores': stores}\n",
    "dict_sales"
   ]
  },
  {
   "cell_type": "markdown",
   "metadata": {
    "id": "QDnqiXVNUUTp"
   },
   "source": [
    " To further inspect all of the items in a dictionary, we can use the `items()` function. We can use the `items()` function when using a `for loop` with a dictionary. This allows us to access both the key and values in a dictionary. We'll see this a little bit later in this chapter."
   ]
  },
  {
   "cell_type": "code",
   "execution_count": 38,
   "metadata": {
    "id": "7xrvqp2c_RDg"
   },
   "outputs": [
    {
     "data": {
      "text/plain": [
       "dict_items([('sales', [100, 200, 240, 400, 100, 500]), ('stores', ['Store A', 'Store B', 'Store A', 'Store C', 'Store D', 'Store B'])])"
      ]
     },
     "execution_count": 38,
     "metadata": {},
     "output_type": "execute_result"
    }
   ],
   "source": [
    "dict_sales.items()"
   ]
  },
  {
   "cell_type": "code",
   "execution_count": null,
   "metadata": {},
   "outputs": [],
   "source": []
  }
 ],
 "metadata": {
  "colab": {
   "provenance": []
  },
  "kernelspec": {
   "display_name": "Python 3 (ipykernel)",
   "language": "python",
   "name": "python3"
  },
  "language_info": {
   "codemirror_mode": {
    "name": "ipython",
    "version": 3
   },
   "file_extension": ".py",
   "mimetype": "text/x-python",
   "name": "python",
   "nbconvert_exporter": "python",
   "pygments_lexer": "ipython3",
   "version": "3.13.3"
  }
 },
 "nbformat": 4,
 "nbformat_minor": 4
}
