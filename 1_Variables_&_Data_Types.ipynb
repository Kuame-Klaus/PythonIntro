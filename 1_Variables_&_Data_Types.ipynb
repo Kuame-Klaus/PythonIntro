{
 "cells": [
  {
   "cell_type": "markdown",
   "metadata": {
    "id": "dARFzQyndPjo"
   },
   "source": [
    "# Python Variables & Data Types"
   ]
  },
  {
   "cell_type": "markdown",
   "metadata": {
    "id": "npu1BYNr-57o"
   },
   "source": [
    "# Variables\n",
    "One of the most fundamental concepts of Python is variables. A Python variable is used to store some value or values. Each variable has a name and a data type. We can assign a value to a variable and then reference this value with the variable name.\n",
    "\n",
    "Variables are important because they can allow our code to be more flexible, take input, and can make it easier to read and interpret as well."
   ]
  },
  {
   "cell_type": "markdown",
   "metadata": {
    "id": "nbNdGeu8MOYv"
   },
   "source": [
    "## Assigning Variables\n",
    "A variable is created when you assign a value to it and execute the code."
   ]
  },
  {
   "cell_type": "markdown",
   "metadata": {
    "id": "KZrYZNbKQikY"
   },
   "source": [
    "For example, we assign the variable x a value of 7."
   ]
  },
  {
   "cell_type": "code",
   "execution_count": 18,
   "metadata": {
    "id": "vKI96B6gdPjp"
   },
   "outputs": [],
   "source": [
    "X = 7"
   ]
  },
  {
   "cell_type": "markdown",
   "metadata": {
    "id": "71b-iQy2MOYx"
   },
   "source": [
    "We can assign multiple variables on different lines in one cell. For example, we assign variable y to be equal to 11. Press enter to start a new line and create another variable z to be equal to 25. After we execute both lines, both variables have been assigned."
   ]
  },
  {
   "cell_type": "code",
   "execution_count": 19,
   "metadata": {
    "id": "N57MZg-5dPj0"
   },
   "outputs": [],
   "source": [
    "Y = 11\n",
    "Z = 25"
   ]
  },
  {
   "cell_type": "markdown",
   "metadata": {
    "id": "xJr3douuMOYx"
   },
   "source": [
    "We just demonstrated a few variables with single letter names. But we can name a variable in other ways as well. A variable name must start with a letter or the underscore character. A variable name can contain numbers but ***cannot*** start with a number.\n"
   ]
  },
  {
   "cell_type": "code",
   "execution_count": 20,
   "metadata": {
    "id": "kgu3G7pCMOYx"
   },
   "outputs": [],
   "source": [
    "a5 = 20\n",
    "\n",
    "__a8 = 45\n",
    "\n",
    "Company01_EBITDA = 7500"
   ]
  },
  {
   "cell_type": "markdown",
   "metadata": {
    "id": "uBb8jLDGGm6W"
   },
   "source": [
    "\n",
    "We can make our variables easier to read and understand by adding comments to our code. Once a line of code contains the `#` character, anything after it on the same line will be considered a comment and not code."
   ]
  },
  {
   "cell_type": "code",
   "execution_count": 38,
   "metadata": {
    "id": "IkqTdx8DGq67"
   },
   "outputs": [],
   "source": [
    "#comments\n",
    "\n",
    "a5 = 20\n",
    "\n",
    "__a8 = 45\n",
    "\n",
    "Company01_EBITDA = 7500"
   ]
  },
  {
   "cell_type": "markdown",
   "metadata": {
    "id": "EMerD-CHdwS8"
   },
   "source": [
    "## Printing Variables\n",
    "If we want to see the value of x, we can type x and execute the code. In Jupyter notebooks, the last line of code is implicitly printed as an output."
   ]
  },
  {
   "cell_type": "code",
   "execution_count": 22,
   "metadata": {
    "colab": {
     "base_uri": "https://localhost:8080/"
    },
    "id": "BlFef8LUdPjs",
    "outputId": "1449e610-c976-43ac-9363-9bab2027afa0"
   },
   "outputs": [
    {
     "data": {
      "text/plain": [
       "7"
      ]
     },
     "execution_count": 22,
     "metadata": {},
     "output_type": "execute_result"
    }
   ],
   "source": [
    "x = 7\n",
    "x"
   ]
  },
  {
   "cell_type": "markdown",
   "metadata": {
    "id": "DvhpLJqPMOYx"
   },
   "source": [
    "However, if we type two variables in different lines, only the last line will be printed. So here we only see the value of z being printed."
   ]
  },
  {
   "cell_type": "code",
   "execution_count": 23,
   "metadata": {
    "colab": {
     "base_uri": "https://localhost:8080/"
    },
    "id": "-nRIh9hoMOYx",
    "outputId": "bd19046a-22fd-4912-85d3-2a3336c8882b"
   },
   "outputs": [
    {
     "data": {
      "text/plain": [
       "25"
      ]
     },
     "execution_count": 23,
     "metadata": {},
     "output_type": "execute_result"
    }
   ],
   "source": [
    "y = 11\n",
    "z = 25\n",
    "y\n",
    "z"
   ]
  },
  {
   "cell_type": "markdown",
   "metadata": {
    "id": "eoNB8BJuMOYx"
   },
   "source": [
    "If we want to see the output of both, we can use the `print` function. When we execute this code now, we can see the values of both y and z."
   ]
  },
  {
   "cell_type": "code",
   "execution_count": 24,
   "metadata": {
    "colab": {
     "base_uri": "https://localhost:8080/"
    },
    "id": "EQ6V8UfvMOYx",
    "outputId": "9705eeeb-50cc-4e3f-e21f-335b49d24b53"
   },
   "outputs": [
    {
     "name": "stdout",
     "output_type": "stream",
     "text": [
      "11\n",
      "25\n"
     ]
    }
   ],
   "source": [
    "print(y)\n",
    "print(z)"
   ]
  },
  {
   "cell_type": "markdown",
   "metadata": {
    "id": "5P5G0Zg_eBoQ"
   },
   "source": [
    "An important point to keep in mind are that variable names are case sensitive. Let's try to print variable x which we defined earlier. And also try to print variable X, with a capitalized X, as the name.\n",
    "\n",
    "The result shows that Python was able to recognize and print the first variable, but we got an error message for the second line. The green arrow tells us in which line the error occurs. It also tells us what the error is. “name X is not defined”. That means x variable is different from X variable."
   ]
  },
  {
   "cell_type": "code",
   "execution_count": 25,
   "metadata": {
    "id": "qvTEWPzfMOYx"
   },
   "outputs": [
    {
     "name": "stdout",
     "output_type": "stream",
     "text": [
      "7\n",
      "7\n"
     ]
    }
   ],
   "source": [
    "print(x)\n",
    "print(X)"
   ]
  },
  {
   "cell_type": "markdown",
   "metadata": {
    "id": "aoV2kAUS0kaj"
   },
   "source": [
    "## Reassigning Variables\n",
    "Another important point to note is if you assign a variable multiple times, the latest line of code executed has the final say in what the variable is going to be. In Jupyter notebooks, it is the last cell that ran, while in scripting it is the last line.\n",
    "\n",
    "At the beginning of the lesson, we declared x to equal to 7. If we print x now, we can see the value as 7."
   ]
  },
  {
   "cell_type": "code",
   "execution_count": 26,
   "metadata": {
    "colab": {
     "base_uri": "https://localhost:8080/"
    },
    "id": "qzYnSiG6dPlU",
    "outputId": "83a215e9-8ed9-43d0-d9d3-d389b654c471"
   },
   "outputs": [
    {
     "data": {
      "text/plain": [
       "7"
      ]
     },
     "execution_count": 26,
     "metadata": {},
     "output_type": "execute_result"
    }
   ],
   "source": [
    "x = 7\n",
    "x"
   ]
  },
  {
   "cell_type": "markdown",
   "metadata": {
    "id": "_3BgdksIMOYx"
   },
   "source": [
    "Now, in this next block, we can reassign x to equal 2. We can add a comment to say that we're reassigning x. This time the output shows x equals 2 instead of 7."
   ]
  },
  {
   "cell_type": "code",
   "execution_count": 27,
   "metadata": {
    "colab": {
     "base_uri": "https://localhost:8080/"
    },
    "id": "dF-x0YFqdPlV",
    "outputId": "86e638bd-e028-407b-a5ac-c147900016ee"
   },
   "outputs": [
    {
     "data": {
      "text/plain": [
       "2"
      ]
     },
     "execution_count": 27,
     "metadata": {},
     "output_type": "execute_result"
    }
   ],
   "source": [
    "# reassigning X\n",
    "x = 2\n",
    "x"
   ]
  },
  {
   "cell_type": "markdown",
   "metadata": {
    "id": "f-TpCnzO_XVH"
   },
   "source": [
    "One thing we need to be careful of when reassigning variables is the output of code blocks not matching unexecuted code.\n",
    "\n",
    "For example, if we print x in the code below, we return the result of 7. Then, if we reassign x to do in the code block above, the results below do not update automatically. The change in variable x above is not reflected in the output below. We would need to re-execute the code below to print the new value of x."
   ]
  },
  {
   "cell_type": "code",
   "execution_count": 28,
   "metadata": {
    "colab": {
     "base_uri": "https://localhost:8080/"
    },
    "id": "iPhPvhPxHJ-X",
    "outputId": "ec56dafd-47ff-4a4d-c7bb-c6961f4c2ebe"
   },
   "outputs": [
    {
     "data": {
      "text/plain": [
       "2"
      ]
     },
     "execution_count": 28,
     "metadata": {},
     "output_type": "execute_result"
    }
   ],
   "source": [
    "x"
   ]
  },
  {
   "cell_type": "markdown",
   "metadata": {
    "id": "XM9br8yvMOYx"
   },
   "source": [
    "# Data Types\n",
    "The data type of a variable is defined when a value is assigned to the variable. The data type of a variable is a way to classify the type of value that it can represent. This will help determine what type of actions and operations can be performed on it.\n",
    "\n",
    "There are four basic types of data in Python: integers (whole numbers), float (decimal numbers), boolean (True or False), and string (text).\n",
    "\n",
    "To see what data type a variable is, you can apply the `type()` function to the variable."
   ]
  },
  {
   "cell_type": "markdown",
   "metadata": {
    "id": "WeGrmmTBhlGd"
   },
   "source": [
    "### Intergers (int) - Whole Numbers\n",
    "Whole numbers are typically `int` - short for intergers.  This also applies for negative numbers."
   ]
  },
  {
   "cell_type": "code",
   "execution_count": 29,
   "metadata": {
    "colab": {
     "base_uri": "https://localhost:8080/"
    },
    "id": "SQrtSq7ydPkA",
    "outputId": "f75734cd-7a66-4018-f843-637fcd745456"
   },
   "outputs": [
    {
     "data": {
      "text/plain": [
       "int"
      ]
     },
     "execution_count": 29,
     "metadata": {},
     "output_type": "execute_result"
    }
   ],
   "source": [
    "int_a = 7\n",
    "type(int_a)"
   ]
  },
  {
   "cell_type": "code",
   "execution_count": 30,
   "metadata": {
    "colab": {
     "base_uri": "https://localhost:8080/"
    },
    "id": "FHRYtcvDdPkF",
    "outputId": "d5e5cfb8-4760-4b4c-d4ba-d1de0ea5a608"
   },
   "outputs": [
    {
     "data": {
      "text/plain": [
       "int"
      ]
     },
     "execution_count": 30,
     "metadata": {},
     "output_type": "execute_result"
    }
   ],
   "source": [
    "type  (-8)"
   ]
  },
  {
   "cell_type": "markdown",
   "metadata": {
    "id": "pp3Wq6J3MOYy"
   },
   "source": [
    "### Float (float) - Decimal Numbers\n",
    "Numbers with decimals are stored as `float`."
   ]
  },
  {
   "cell_type": "code",
   "execution_count": 31,
   "metadata": {
    "colab": {
     "base_uri": "https://localhost:8080/"
    },
    "id": "fqxnm4t6vtGu",
    "outputId": "370e28b6-c879-4868-a79b-70760768c7c0"
   },
   "outputs": [
    {
     "data": {
      "text/plain": [
       "float"
      ]
     },
     "execution_count": 31,
     "metadata": {},
     "output_type": "execute_result"
    }
   ],
   "source": [
    "float_a = 1.234553\n",
    "type(float_a)"
   ]
  },
  {
   "cell_type": "code",
   "execution_count": null,
   "metadata": {
    "id": "pscqbgPEdPkH"
   },
   "outputs": [],
   "source": []
  },
  {
   "cell_type": "markdown",
   "metadata": {
    "id": "LV55rnziMOYy"
   },
   "source": [
    "### Boolean (bool) - True/False\n",
    "A `boolean` value is either `True` or `False`. For example, if we ask whether 10 is larger than 9, it will return the value `True`."
   ]
  },
  {
   "cell_type": "code",
   "execution_count": 32,
   "metadata": {
    "colab": {
     "base_uri": "https://localhost:8080/"
    },
    "id": "JKtRdf7iMOYy",
    "outputId": "79c0dde2-e291-4789-d12c-66074424936a"
   },
   "outputs": [
    {
     "name": "stdout",
     "output_type": "stream",
     "text": [
      "False\n"
     ]
    }
   ],
   "source": [
    "print (10>15)"
   ]
  },
  {
   "cell_type": "markdown",
   "metadata": {
    "id": "aVao6GtVMOYy"
   },
   "source": [
    "We can also assign a boolean value to a variable. Here we define the variable boolean_a equals `True`. Using the `type` function on this variable, we can see the data type is boolean."
   ]
  },
  {
   "cell_type": "code",
   "execution_count": 33,
   "metadata": {
    "colab": {
     "base_uri": "https://localhost:8080/"
    },
    "id": "i9Rud4ZvdPkO",
    "outputId": "d95cde2c-10e5-4581-871a-4d4d3e04c81d"
   },
   "outputs": [
    {
     "data": {
      "text/plain": [
       "bool"
      ]
     },
     "execution_count": 33,
     "metadata": {},
     "output_type": "execute_result"
    }
   ],
   "source": [
    "boolean_a = True\n",
    "type(boolean_a)"
   ]
  },
  {
   "cell_type": "markdown",
   "metadata": {
    "id": "oCybhEkhjPr-"
   },
   "source": [
    "Boolean values are special text reserved in Python and have to be capitalized. If we assign boolean_b with non-capitalized true, we'll get a error message saying that name \"true\" is not defined"
   ]
  },
  {
   "cell_type": "code",
   "execution_count": 34,
   "metadata": {
    "colab": {
     "base_uri": "https://localhost:8080/",
     "height": 141
    },
    "id": "ym7mX-5hdPkR",
    "outputId": "d9889af8-2c29-464d-80a9-3ed8b8652db0"
   },
   "outputs": [
    {
     "ename": "NameError",
     "evalue": "name 'true' is not defined",
     "output_type": "error",
     "traceback": [
      "\u001b[31m---------------------------------------------------------------------------\u001b[39m",
      "\u001b[31mNameError\u001b[39m                                 Traceback (most recent call last)",
      "\u001b[36mCell\u001b[39m\u001b[36m \u001b[39m\u001b[32mIn[34]\u001b[39m\u001b[32m, line 1\u001b[39m\n\u001b[32m----> \u001b[39m\u001b[32m1\u001b[39m boolean_b = \u001b[43mtrue\u001b[49m\n",
      "\u001b[31mNameError\u001b[39m: name 'true' is not defined"
     ]
    }
   ],
   "source": [
    "boolean_b = true"
   ]
  },
  {
   "cell_type": "markdown",
   "metadata": {
    "id": "TKMrml3rdPkT"
   },
   "source": [
    "### Strings (string) - Text\n",
    "A `string` is a list of characters. Strings in Python are declared a special way applying '' or \"\"."
   ]
  },
  {
   "cell_type": "code",
   "execution_count": 39,
   "metadata": {
    "colab": {
     "base_uri": "https://localhost:8080/"
    },
    "id": "khNN3efPdPkc",
    "outputId": "3421f3b5-45b6-4282-b3dc-295b29134908"
   },
   "outputs": [
    {
     "data": {
      "text/plain": [
       "str"
      ]
     },
     "execution_count": 39,
     "metadata": {},
     "output_type": "execute_result"
    }
   ],
   "source": [
    "string_a = 'hello'\n",
    "type(string_a)"
   ]
  },
  {
   "cell_type": "markdown",
   "metadata": {
    "id": "kKBYcbEBMOYy"
   },
   "source": [
    "Again, we can use `type()` function to see the type of the data."
   ]
  },
  {
   "cell_type": "code",
   "execution_count": null,
   "metadata": {
    "colab": {
     "base_uri": "https://localhost:8080/"
    },
    "id": "GngaC8RBMOYy",
    "outputId": "f2d5a7b1-6a86-41fa-da36-433f48438061"
   },
   "outputs": [],
   "source": [
    "print('hello')\n",
    "print(string_a)"
   ]
  },
  {
   "cell_type": "markdown",
   "metadata": {
    "id": "O8m1Yg5WMOYy"
   },
   "source": [
    "While adding the quotation marks or calling the variable name will give us the value of the variable. We're using print function since we're asking Python to print two lines of code."
   ]
  },
  {
   "cell_type": "code",
   "execution_count": null,
   "metadata": {
    "id": "ZefGjOXjdPkX"
   },
   "outputs": [],
   "source": [
    "'I can't fly'"
   ]
  },
  {
   "cell_type": "markdown",
   "metadata": {
    "id": "bLTXh__gnRWQ"
   },
   "source": [
    "A common cause of errors in strings is a string that contains apostrophes. The apostrophe might get mixed together with the single quotation marks and cause errors in our code. That requires us to use a special format to keep the apostrophes in string form."
   ]
  },
  {
   "cell_type": "code",
   "execution_count": 35,
   "metadata": {
    "colab": {
     "base_uri": "https://localhost:8080/"
    },
    "id": "IWr1LMJAdPkj",
    "outputId": "8828b012-8ef9-40ea-d4fe-f7df295d70b9"
   },
   "outputs": [
    {
     "name": "stdout",
     "output_type": "stream",
     "text": [
      "I can't fly\n",
      "I can't fly\n"
     ]
    }
   ],
   "source": [
    "print(\"I can't fly\")\n",
    "print('I can\\'t fly')"
   ]
  },
  {
   "cell_type": "markdown",
   "metadata": {
    "id": "10QujAnVnf9s"
   },
   "source": [
    "One solution is to use `\" \"` instead of `' '`.\n",
    "\n",
    "However, a better solution is to apply the `\\` before the apostrophe to tell Python that this is not a quotation mark. It is much easier to spot a `\\` next to the `'` than keeping track of different pairs of `''` or `\"\"`."
   ]
  },
  {
   "cell_type": "code",
   "execution_count": 36,
   "metadata": {
    "colab": {
     "base_uri": "https://localhost:8080/",
     "height": 35
    },
    "id": "-DDoG_F_dPkl",
    "outputId": "6c1b4fe5-494b-41dd-e037-e4f7b6b8a6cb"
   },
   "outputs": [
    {
     "data": {
      "text/plain": [
       "'NetProfit'"
      ]
     },
     "execution_count": 36,
     "metadata": {},
     "output_type": "execute_result"
    }
   ],
   "source": [
    "\"Net\" \"Profit\""
   ]
  },
  {
   "cell_type": "markdown",
   "metadata": {
    "id": "V1DjcOkVoDgj"
   },
   "source": [
    "## Concatenating Strings\n",
    "A common task in Python, when working with strings, is to concatenate (or combine) multiple strings together. When creating strings, Python automatically concatenates them without spaces."
   ]
  },
  {
   "cell_type": "code",
   "execution_count": null,
   "metadata": {
    "colab": {
     "base_uri": "https://localhost:8080/"
    },
    "id": "6ebS1uhodPks",
    "outputId": "612675f9-189f-4fd3-bdf5-a899ba2aa986"
   },
   "outputs": [],
   "source": [
    "print('Net ' 'Profit')\n",
    "print('Net ' + 'Profit')"
   ]
  },
  {
   "cell_type": "markdown",
   "metadata": {
    "id": "lRkYWxCjoK0D"
   },
   "source": [
    "Spaces have to be added within the strings themselves in order to be included.\n",
    "\n",
    "However, using `+` to combine strings is a better practice because for some print statements, as it can get confusing to spot a space between the strings that we are combining.\n",
    "\n",
    "We are also able to use a comma between strings in a print statement. A space will automatically be placed between the strings that are separated by a comma."
   ]
  },
  {
   "cell_type": "code",
   "execution_count": null,
   "metadata": {
    "colab": {
     "base_uri": "https://localhost:8080/"
    },
    "id": "ARv-XAO-dPku",
    "outputId": "4abe1269-48ff-4505-cd9a-4966d03dd68d"
   },
   "outputs": [],
   "source": [
    "print('Net ' 'Profit')\n",
    "print('Net ' + 'Profit')\n",
    "print('Net', 'Profit')"
   ]
  },
  {
   "cell_type": "markdown",
   "metadata": {
    "id": "olXKcnqWMOYy"
   },
   "source": [
    "## Convert and Combine Data Types\n",
    "There may be instances where we will need to convert the `data type` of a variable. For example, this can be the case if we want to combine different types of variables into one string."
   ]
  },
  {
   "cell_type": "markdown",
   "metadata": {
    "id": "HgO3-a6li3Vp"
   },
   "source": [
    "### Convert Data Types\n",
    "We can convert numeric data types, like `int` and `float`, into other variable types by applying a `data type convert` function. For example, `int()` convert the variable `float_a` into an `integer`: the original value 1.25 rounds to 1."
   ]
  },
  {
   "cell_type": "code",
   "execution_count": null,
   "metadata": {
    "colab": {
     "base_uri": "https://localhost:8080/"
    },
    "id": "1LuJ68Z7dPkK",
    "outputId": "53c0b8bf-649b-4cc8-c7b5-8442552411e6"
   },
   "outputs": [],
   "source": [
    "int(float_a)"
   ]
  },
  {
   "cell_type": "markdown",
   "metadata": {
    "id": "ghwNVAryMOYz"
   },
   "source": [
    "We can also convert an `integer` into a `float` by applying the `float()` function."
   ]
  },
  {
   "cell_type": "code",
   "execution_count": null,
   "metadata": {
    "colab": {
     "base_uri": "https://localhost:8080/"
    },
    "id": "PG99aFTIdPkM",
    "outputId": "1eab9a1f-f3fc-4a59-8412-99a4c3f78483"
   },
   "outputs": [],
   "source": [
    "float(456789)"
   ]
  },
  {
   "cell_type": "markdown",
   "metadata": {
    "id": "0t5CdUirMOYz"
   },
   "source": [
    "We can convert different types of data to strings by using the `str()` function. This is helpful if we want to embed different types of data into a longer text string."
   ]
  },
  {
   "cell_type": "code",
   "execution_count": null,
   "metadata": {
    "colab": {
     "base_uri": "https://localhost:8080/",
     "height": 35
    },
    "id": "8aWBW0_AMOYz",
    "outputId": "13415170-9c5d-4464-be1b-65b027aa6a5b"
   },
   "outputs": [],
   "source": [
    "# Convert int to string\n",
    "str( 57)"
   ]
  },
  {
   "cell_type": "code",
   "execution_count": null,
   "metadata": {
    "colab": {
     "base_uri": "https://localhost:8080/",
     "height": 35
    },
    "id": "5jR5dj15JQyH",
    "outputId": "ad4d567f-a0aa-40c4-e56d-b42cd3e43f1a"
   },
   "outputs": [],
   "source": [
    "# Convert float to string\n",
    "str( 78.68)"
   ]
  },
  {
   "cell_type": "code",
   "execution_count": 40,
   "metadata": {
    "colab": {
     "base_uri": "https://localhost:8080/",
     "height": 35
    },
    "id": "UJZoMkaBJRWf",
    "outputId": "9ad66655-a026-43c7-ee14-93bc27209923"
   },
   "outputs": [
    {
     "data": {
      "text/plain": [
       "'False'"
      ]
     },
     "execution_count": 40,
     "metadata": {},
     "output_type": "execute_result"
    }
   ],
   "source": [
    "# Convert boolean to string. The evaluation of 2 > 1 returns True, which is then converted into the string of 'True'.\n",
    "str(2>7)"
   ]
  },
  {
   "cell_type": "markdown",
   "metadata": {
    "id": "iOI-E6cYlTvU"
   },
   "source": [
    "### Combine Data Types\n",
    "Different types of data cannot be added together in their raw forms.  They have to be converted into the same type in order to combine them.\n",
    "\n",
    "For example, let's create an integer variable called number. If we want to print this variable followed by a string, we'll get an error message."
   ]
  },
  {
   "cell_type": "code",
   "execution_count": 41,
   "metadata": {
    "colab": {
     "base_uri": "https://localhost:8080/",
     "height": 159
    },
    "id": "D0zNsnk2dPkg",
    "outputId": "30f4e6d4-7b58-481c-c25a-9f889c917b04"
   },
   "outputs": [
    {
     "ename": "TypeError",
     "evalue": "unsupported operand type(s) for +: 'int' and 'str'",
     "output_type": "error",
     "traceback": [
      "\u001b[31m---------------------------------------------------------------------------\u001b[39m",
      "\u001b[31mTypeError\u001b[39m                                 Traceback (most recent call last)",
      "\u001b[36mCell\u001b[39m\u001b[36m \u001b[39m\u001b[32mIn[41]\u001b[39m\u001b[32m, line 2\u001b[39m\n\u001b[32m      1\u001b[39m number = \u001b[32m5\u001b[39m\n\u001b[32m----> \u001b[39m\u001b[32m2\u001b[39m \u001b[38;5;28mprint\u001b[39m(\u001b[43mnumber\u001b[49m\u001b[43m \u001b[49m\u001b[43m+\u001b[49m\u001b[43m \u001b[49m\u001b[33;43m'\u001b[39;49m\u001b[33;43mEuros\u001b[39;49m\u001b[33;43m'\u001b[39;49m)\n",
      "\u001b[31mTypeError\u001b[39m: unsupported operand type(s) for +: 'int' and 'str'"
     ]
    }
   ],
   "source": [
    "number = 5\n",
    "print(number + 'Euros')"
   ]
  },
  {
   "cell_type": "markdown",
   "metadata": {
    "id": "FDrcA_syMOYz"
   },
   "source": [
    "One solution is to use `str()` to turn the number into a string, and then concatenate the two strings."
   ]
  },
  {
   "cell_type": "code",
   "execution_count": 42,
   "metadata": {
    "colab": {
     "base_uri": "https://localhost:8080/"
    },
    "id": "A2xpysGwdPki",
    "outputId": "46067e9d-2829-4112-ba6f-92f9c1da04be"
   },
   "outputs": [
    {
     "name": "stdout",
     "output_type": "stream",
     "text": [
      "5 Euros\n"
     ]
    }
   ],
   "source": [
    "number = 5\n",
    "print(str(number) , 'Euros')"
   ]
  },
  {
   "cell_type": "code",
   "execution_count": null,
   "metadata": {},
   "outputs": [],
   "source": []
  }
 ],
 "metadata": {
  "colab": {
   "provenance": []
  },
  "kernelspec": {
   "display_name": "Python 3 (ipykernel)",
   "language": "python",
   "name": "python3"
  },
  "language_info": {
   "codemirror_mode": {
    "name": "ipython",
    "version": 3
   },
   "file_extension": ".py",
   "mimetype": "text/x-python",
   "name": "python",
   "nbconvert_exporter": "python",
   "pygments_lexer": "ipython3",
   "version": "3.13.3"
  }
 },
 "nbformat": 4,
 "nbformat_minor": 4
}
