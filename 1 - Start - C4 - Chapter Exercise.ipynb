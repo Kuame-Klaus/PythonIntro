{
 "cells": [
  {
   "cell_type": "markdown",
   "id": "f11dbe9e",
   "metadata": {},
   "source": [
    "# Chapter 4"
   ]
  },
  {
   "cell_type": "code",
   "execution_count": 34,
   "id": "16518321",
   "metadata": {},
   "outputs": [],
   "source": [
    "import numpy as np\n",
    "import pandas as pd\n",
    "import seaborn as sns\n",
    "import matplotlib.pyplot as plt"
   ]
  },
  {
   "cell_type": "code",
   "execution_count": 35,
   "id": "4089fa14",
   "metadata": {},
   "outputs": [
    {
     "data": {
      "text/html": [
       "<div>\n",
       "<style scoped>\n",
       "    .dataframe tbody tr th:only-of-type {\n",
       "        vertical-align: middle;\n",
       "    }\n",
       "\n",
       "    .dataframe tbody tr th {\n",
       "        vertical-align: top;\n",
       "    }\n",
       "\n",
       "    .dataframe thead th {\n",
       "        text-align: right;\n",
       "    }\n",
       "</style>\n",
       "<table border=\"1\" class=\"dataframe\">\n",
       "  <thead>\n",
       "    <tr style=\"text-align: right;\">\n",
       "      <th></th>\n",
       "      <th>OrderID</th>\n",
       "      <th>PricePerItem</th>\n",
       "      <th>Quantity</th>\n",
       "      <th>ShippingDistance</th>\n",
       "      <th>CustomerID</th>\n",
       "    </tr>\n",
       "  </thead>\n",
       "  <tbody>\n",
       "    <tr>\n",
       "      <th>0</th>\n",
       "      <td>1</td>\n",
       "      <td>10</td>\n",
       "      <td>5</td>\n",
       "      <td>3.0</td>\n",
       "      <td>6671</td>\n",
       "    </tr>\n",
       "    <tr>\n",
       "      <th>1</th>\n",
       "      <td>2</td>\n",
       "      <td>10</td>\n",
       "      <td>10</td>\n",
       "      <td>84.0</td>\n",
       "      <td>8647</td>\n",
       "    </tr>\n",
       "    <tr>\n",
       "      <th>2</th>\n",
       "      <td>3</td>\n",
       "      <td>10</td>\n",
       "      <td>1</td>\n",
       "      <td>0.0</td>\n",
       "      <td>4075</td>\n",
       "    </tr>\n",
       "    <tr>\n",
       "      <th>3</th>\n",
       "      <td>4</td>\n",
       "      <td>10</td>\n",
       "      <td>10</td>\n",
       "      <td>92.0</td>\n",
       "      <td>8452</td>\n",
       "    </tr>\n",
       "    <tr>\n",
       "      <th>4</th>\n",
       "      <td>5</td>\n",
       "      <td>10</td>\n",
       "      <td>3</td>\n",
       "      <td>2.0</td>\n",
       "      <td>2621</td>\n",
       "    </tr>\n",
       "    <tr>\n",
       "      <th>...</th>\n",
       "      <td>...</td>\n",
       "      <td>...</td>\n",
       "      <td>...</td>\n",
       "      <td>...</td>\n",
       "      <td>...</td>\n",
       "    </tr>\n",
       "    <tr>\n",
       "      <th>995</th>\n",
       "      <td>996</td>\n",
       "      <td>10</td>\n",
       "      <td>8</td>\n",
       "      <td>2.0</td>\n",
       "      <td>6691</td>\n",
       "    </tr>\n",
       "    <tr>\n",
       "      <th>996</th>\n",
       "      <td>997</td>\n",
       "      <td>10</td>\n",
       "      <td>9</td>\n",
       "      <td>43.0</td>\n",
       "      <td>9782</td>\n",
       "    </tr>\n",
       "    <tr>\n",
       "      <th>997</th>\n",
       "      <td>998</td>\n",
       "      <td>10</td>\n",
       "      <td>2</td>\n",
       "      <td>10.0</td>\n",
       "      <td>1096</td>\n",
       "    </tr>\n",
       "    <tr>\n",
       "      <th>998</th>\n",
       "      <td>999</td>\n",
       "      <td>10</td>\n",
       "      <td>9</td>\n",
       "      <td>49.0</td>\n",
       "      <td>5319</td>\n",
       "    </tr>\n",
       "    <tr>\n",
       "      <th>999</th>\n",
       "      <td>1000</td>\n",
       "      <td>10</td>\n",
       "      <td>4</td>\n",
       "      <td>46.0</td>\n",
       "      <td>8187</td>\n",
       "    </tr>\n",
       "  </tbody>\n",
       "</table>\n",
       "<p>1000 rows × 5 columns</p>\n",
       "</div>"
      ],
      "text/plain": [
       "     OrderID  PricePerItem  Quantity  ShippingDistance  CustomerID\n",
       "0          1            10         5               3.0        6671\n",
       "1          2            10        10              84.0        8647\n",
       "2          3            10         1               0.0        4075\n",
       "3          4            10        10              92.0        8452\n",
       "4          5            10         3               2.0        2621\n",
       "..       ...           ...       ...               ...         ...\n",
       "995      996            10         8               2.0        6691\n",
       "996      997            10         9              43.0        9782\n",
       "997      998            10         2              10.0        1096\n",
       "998      999            10         9              49.0        5319\n",
       "999     1000            10         4              46.0        8187\n",
       "\n",
       "[1000 rows x 5 columns]"
      ]
     },
     "execution_count": 35,
     "metadata": {},
     "output_type": "execute_result"
    }
   ],
   "source": [
    "# Import .csv and create df\n",
    "df = pd.read_csv('C:\\\\Users\\\\WY343EH\\\\Downloads\\\\Projects\\\\Python\\\\Python Fundamentals - Learner Files\\\\C4 - Visualizing Data\\\\3 - Chapter Exercise\\\\Chapter Exercise Data.csv')\n",
    "\n",
    "# Fill na values with zeros in df\n",
    "df = df.fillna(0)\n",
    "df"
   ]
  },
  {
   "cell_type": "code",
   "execution_count": 36,
   "id": "3367273e",
   "metadata": {},
   "outputs": [
    {
     "data": {
      "text/html": [
       "<div>\n",
       "<style scoped>\n",
       "    .dataframe tbody tr th:only-of-type {\n",
       "        vertical-align: middle;\n",
       "    }\n",
       "\n",
       "    .dataframe tbody tr th {\n",
       "        vertical-align: top;\n",
       "    }\n",
       "\n",
       "    .dataframe thead th {\n",
       "        text-align: right;\n",
       "    }\n",
       "</style>\n",
       "<table border=\"1\" class=\"dataframe\">\n",
       "  <thead>\n",
       "    <tr style=\"text-align: right;\">\n",
       "      <th></th>\n",
       "      <th>Quantity</th>\n",
       "      <th>Count</th>\n",
       "    </tr>\n",
       "  </thead>\n",
       "  <tbody>\n",
       "    <tr>\n",
       "      <th>0</th>\n",
       "      <td>1</td>\n",
       "      <td>113</td>\n",
       "    </tr>\n",
       "    <tr>\n",
       "      <th>1</th>\n",
       "      <td>2</td>\n",
       "      <td>95</td>\n",
       "    </tr>\n",
       "    <tr>\n",
       "      <th>2</th>\n",
       "      <td>3</td>\n",
       "      <td>98</td>\n",
       "    </tr>\n",
       "    <tr>\n",
       "      <th>3</th>\n",
       "      <td>4</td>\n",
       "      <td>94</td>\n",
       "    </tr>\n",
       "    <tr>\n",
       "      <th>4</th>\n",
       "      <td>5</td>\n",
       "      <td>98</td>\n",
       "    </tr>\n",
       "    <tr>\n",
       "      <th>5</th>\n",
       "      <td>6</td>\n",
       "      <td>91</td>\n",
       "    </tr>\n",
       "    <tr>\n",
       "      <th>6</th>\n",
       "      <td>7</td>\n",
       "      <td>103</td>\n",
       "    </tr>\n",
       "    <tr>\n",
       "      <th>7</th>\n",
       "      <td>8</td>\n",
       "      <td>102</td>\n",
       "    </tr>\n",
       "    <tr>\n",
       "      <th>8</th>\n",
       "      <td>9</td>\n",
       "      <td>96</td>\n",
       "    </tr>\n",
       "    <tr>\n",
       "      <th>9</th>\n",
       "      <td>10</td>\n",
       "      <td>110</td>\n",
       "    </tr>\n",
       "  </tbody>\n",
       "</table>\n",
       "</div>"
      ],
      "text/plain": [
       "   Quantity  Count\n",
       "0         1    113\n",
       "1         2     95\n",
       "2         3     98\n",
       "3         4     94\n",
       "4         5     98\n",
       "5         6     91\n",
       "6         7    103\n",
       "7         8    102\n",
       "8         9     96\n",
       "9        10    110"
      ]
     },
     "execution_count": 36,
     "metadata": {},
     "output_type": "execute_result"
    }
   ],
   "source": [
    "# Create the Amount column\n",
    "df['Amount'] = df['PricePerItem']*df['Quantity']\n",
    "\n",
    "# Create the df_50 DataFrame\n",
    "df_50 = df[df['Amount'] >= 50]\n",
    "\n",
    "# Remove the Shipping Distance column\n",
    "df = df.drop('ShippingDistance', axis=1)\n",
    "\n",
    "# Create count_of_quantity series\n",
    "Count_of_quantity =  df.groupby('Quantity')['OrderID'].count()\n",
    "\n",
    "Count_of_quantity = df.groupby('Quantity')['OrderID'].count().reset_index(name='Count')\n",
    "\n",
    "Count_of_quantity"
   ]
  },
  {
   "cell_type": "markdown",
   "id": "d0f95c7f",
   "metadata": {},
   "source": [
    "1. John wants to see the number of products contained in each order - the distribution of quantity. Create a histogram on the Quantity column from the df DataFrame."
   ]
  },
  {
   "cell_type": "code",
   "execution_count": 41,
   "id": "5c329c7c",
   "metadata": {},
   "outputs": [
    {
     "data": {
      "image/png": "[encoded data removed]",
      "text/plain": [
       "<Figure size 640x480 with 1 Axes>"
      ]
     },
     "metadata": {},
     "output_type": "display_data"
    }
   ],
   "source": [
    "sns.histplot(df['Quantity']);"
   ]
  },
  {
   "cell_type": "markdown",
   "id": "ab37c12b",
   "metadata": {},
   "source": [
    "2. John would like to know how many orders each customers has placed. Create a bar plot to show this – each bar should be the number of orders, aggregated by the count of customers who placed that many orders."
   ]
  },
  {
   "cell_type": "code",
   "execution_count": 67,
   "id": "8fbf4ddf",
   "metadata": {},
   "outputs": [
    {
     "name": "stderr",
     "output_type": "stream",
     "text": [
      "C:\\Users\\WY343EH\\AppData\\Local\\Temp\\ipykernel_16352\\735829163.py:10: FutureWarning: \n",
      "\n",
      "Passing `palette` without assigning `hue` is deprecated and will be removed in v0.14.0. Assign the `x` variable to `hue` and set `legend=False` for the same effect.\n",
      "\n",
      "  sns.barplot(x = Count_of_cust.index, y = 'Count', data = Count_of_cust, palette = 'colorblind')\n"
     ]
    },
    {
     "data": {
      "image/png": "[encoded data removed]",
      "text/plain": [
       "<Figure size 640x480 with 1 Axes>"
      ]
     },
     "metadata": {},
     "output_type": "display_data"
    }
   ],
   "source": [
    "# Count number of OrderID for each CustomerID\n",
    "\n",
    "Count_of_orders =pd.DataFrame(df.groupby('CustomerID')['OrderID'].count())\n",
    "Count_of_orders\n",
    "# Count number of Customers for each Order Quantity\n",
    "\n",
    "Count_of_cust =pd.DataFrame(Count_of_orders.groupby('OrderID')['OrderID'].count())\n",
    "Count_of_cust.columns = ['Count']\n",
    "# Create bar plot\n",
    "sns.barplot(x = Count_of_cust.index, y = 'Count', data = Count_of_cust, palette = 'colorblind')\n",
    "plt.title('Count of Cutomers per OrderID')\n",
    "plt.xlabel('OrderID')\n",
    "plt.ylabel('Count');"
   ]
  },
  {
   "cell_type": "markdown",
   "id": "55f4ef7e",
   "metadata": {},
   "source": [
    "3. John wants to know the relationship between the quantity of products in an order and the amount paid for that order. Create a scatter plot of Quantity vs Amount."
   ]
  },
  {
   "cell_type": "code",
   "execution_count": 78,
   "id": "5246000c",
   "metadata": {},
   "outputs": [
    {
     "data": {
      "image/png": "[encoded data removed]",
      "text/plain": [
       "<Figure size 1200x800 with 1 Axes>"
      ]
     },
     "metadata": {},
     "output_type": "display_data"
    }
   ],
   "source": [
    "plt.figure(figsize = (12, 8))\n",
    "\n",
    "sns.scatterplot(x = 'Quantity', y= 'Amount', data = df, color = 'green' )\n",
    "# Add titles and labels\n",
    "plt.title('Trend in Amount vs Quantity')\n",
    "plt.xlabel('Quantity')\n",
    "plt.ylabel('Amount')\n",
    "plt.xticks(rotation = 45);\n",
    "# Add limits to the axes\n"
   ]
  }
 ],
 "metadata": {
  "kernelspec": {
   "display_name": "Python 3 (ipykernel)",
   "language": "python",
   "name": "python3"
  },
  "language_info": {
   "codemirror_mode": {
    "name": "ipython",
    "version": 3
   },
   "file_extension": ".py",
   "mimetype": "text/x-python",
   "name": "python",
   "nbconvert_exporter": "python",
   "pygments_lexer": "ipython3",
   "version": "3.13.3"
  }
 },
 "nbformat": 4,
 "nbformat_minor": 5
}
