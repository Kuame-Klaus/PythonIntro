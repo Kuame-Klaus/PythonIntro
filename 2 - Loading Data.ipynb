{
 "cells": [
  {
   "cell_type": "markdown",
   "id": "f5736422",
   "metadata": {},
   "source": [
    "# Loading Data\n",
    "Now that we are more familiar with the NumPy and Pandas packages, we can start loading data into Python to start working with. We can load data into our notebook a few different ways. Four different ways that we'll look at in this notebook are:\n",
    "1. Generating data within our notebook using `np.arange()`\n",
    "2. Generating data within our notebook using `np.random` functions\n",
    "3. Importing external data into our notebook using Pandas DataReader\n",
    "4. Importing an external .csv file into our notebook"
   ]
  },
  {
   "cell_type": "markdown",
   "id": "84a910d4",
   "metadata": {},
   "source": [
    "## Generating Data with NumPy arange\n",
    "\n",
    "In the last chapter, we demonstrated how to create numpy arrays by providing all the values in an array. Numpy also allows us to more efficiently generate a range of values. Let's first look at the `arange()` function that creates a range of intervals. The value 30 that we put inside the parentheses is the ending interval of the array. This means that Array_3 will start at 0, and end before 30."
   ]
  },
  {
   "cell_type": "code",
   "execution_count": 35,
   "id": "166c4ccd",
   "metadata": {},
   "outputs": [
    {
     "data": {
      "text/plain": [
       "array([ 0,  1,  2,  3,  4,  5,  6,  7,  8,  9, 10, 11, 12, 13, 14, 15, 16,\n",
       "       17, 18, 19, 20, 21, 22, 23, 24, 25, 26, 27, 28, 29])"
      ]
     },
     "execution_count": 35,
     "metadata": {},
     "output_type": "execute_result"
    }
   ],
   "source": [
    "import numpy as np\n",
    "import pandas as pd\n",
    "array3 = np.arange(30)\n",
    "array3"
   ]
  },
  {
   "cell_type": "markdown",
   "id": "c81086ea",
   "metadata": {},
   "source": [
    "We can also provide a starting interval, in this case 3, and an ending interval, in this case 7. This array starts at 3 and ends before 7."
   ]
  },
  {
   "cell_type": "code",
   "execution_count": 4,
   "id": "4a207691",
   "metadata": {},
   "outputs": [
    {
     "data": {
      "text/plain": [
       "array([4, 5, 6, 7])"
      ]
     },
     "execution_count": 4,
     "metadata": {},
     "output_type": "execute_result"
    }
   ],
   "source": [
    "np.arange(4,8)"
   ]
  },
  {
   "cell_type": "markdown",
   "id": "9d5632b9",
   "metadata": {},
   "source": [
    "Another information we can add is a step. For example, let's create an array starting at 1, ending at 10, and the 2 step means the range runs every other number. And again, it goes up to but not the last value."
   ]
  },
  {
   "cell_type": "code",
   "execution_count": 5,
   "id": "383b4a2e",
   "metadata": {},
   "outputs": [
    {
     "data": {
      "text/plain": [
       "array([1, 3, 5, 7, 9])"
      ]
     },
     "execution_count": 5,
     "metadata": {},
     "output_type": "execute_result"
    }
   ],
   "source": [
    "# Arrange (starting interval, ending interval, step)\n",
    "np.arange(1,10,2)"
   ]
  },
  {
   "cell_type": "markdown",
   "id": "52d27a7f",
   "metadata": {},
   "source": [
    "The last two examples are arrays consists of a range of integers. We can also gather a range of float values within an interval. For this purpose we'll use the `linspace()` function. This function includes a starting value, an ending value, and the number of items in this array. This example will return 20 values evenly spaced between 0 to 5."
   ]
  },
  {
   "cell_type": "code",
   "execution_count": 6,
   "id": "372bd6c4",
   "metadata": {},
   "outputs": [
    {
     "data": {
      "text/plain": [
       "array([0.        , 0.20512821, 0.41025641, 0.61538462, 0.82051282,\n",
       "       1.02564103, 1.23076923, 1.43589744, 1.64102564, 1.84615385,\n",
       "       2.05128205, 2.25641026, 2.46153846, 2.66666667, 2.87179487,\n",
       "       3.07692308, 3.28205128, 3.48717949, 3.69230769, 3.8974359 ,\n",
       "       4.1025641 , 4.30769231, 4.51282051, 4.71794872, 4.92307692,\n",
       "       5.12820513, 5.33333333, 5.53846154, 5.74358974, 5.94871795,\n",
       "       6.15384615, 6.35897436, 6.56410256, 6.76923077, 6.97435897,\n",
       "       7.17948718, 7.38461538, 7.58974359, 7.79487179, 8.        ])"
      ]
     },
     "execution_count": 6,
     "metadata": {},
     "output_type": "execute_result"
    }
   ],
   "source": [
    "# Gathering a range of values within an interval can also be done.\n",
    "np.linspace(0,8,40)"
   ]
  },
  {
   "cell_type": "markdown",
   "id": "e93010a9",
   "metadata": {},
   "source": [
    "A range has similar properties as lists and other numpy arrays when it comes to indexing. Let's use Array_3 that we created earlier as an example. To call the 5th value within the array, we call index 4 in the square brackes."
   ]
  },
  {
   "cell_type": "code",
   "execution_count": 8,
   "id": "17edbfca",
   "metadata": {},
   "outputs": [
    {
     "data": {
      "text/plain": [
       "np.int64(4)"
      ]
     },
     "execution_count": 8,
     "metadata": {},
     "output_type": "execute_result"
    }
   ],
   "source": [
    "array3[4]\n"
   ]
  },
  {
   "cell_type": "markdown",
   "id": "2f463351",
   "metadata": {},
   "source": [
    "## Generating Data with NumPy random\n",
    "\n",
    "There are a lot of functions that allow us to generate randomized values in a numpy array. Let start with `random.rand` function. It generates random floats from 0 to 1. In the parentheses we can put how many numbers we want to generate. In this example we generated 10 random floats."
   ]
  },
  {
   "cell_type": "code",
   "execution_count": 10,
   "id": "9564f473",
   "metadata": {},
   "outputs": [
    {
     "data": {
      "text/plain": [
       "array([0.05999653, 0.76248804, 0.95188932, 0.49984858, 0.08604553,\n",
       "       0.59724195, 0.87281301, 0.12233287, 0.91468835, 0.25517815])"
      ]
     },
     "execution_count": 10,
     "metadata": {},
     "output_type": "execute_result"
    }
   ],
   "source": [
    "# creating an array of random floats\n",
    "np.random.rand(10)"
   ]
  },
  {
   "cell_type": "markdown",
   "id": "7f426336",
   "metadata": {},
   "source": [
    "Another function we can use is the `random.randint` function. It can be used to gather a random integer within a range. For example, we will have a random whole number between 10 and 20. It is important to note that this function includes 10 up to 19."
   ]
  },
  {
   "cell_type": "code",
   "execution_count": 13,
   "id": "7fc975db",
   "metadata": {
    "scrolled": true
   },
   "outputs": [
    {
     "data": {
      "text/plain": [
       "11"
      ]
     },
     "execution_count": 13,
     "metadata": {},
     "output_type": "execute_result"
    }
   ],
   "source": [
    "# gathering a random interger within a range\n",
    "np.random.randint(10,20)"
   ]
  },
  {
   "cell_type": "markdown",
   "id": "5e75ee25",
   "metadata": {},
   "source": [
    "If we add a number in the end, we can generate a number of random integers wthin this range. This example creates an array of 5 integers in between 10 and 20. We might get repeatative values from the random functions."
   ]
  },
  {
   "cell_type": "code",
   "execution_count": 14,
   "id": "91439a6d",
   "metadata": {},
   "outputs": [
    {
     "data": {
      "text/plain": [
       "array([10, 13, 15, 17, 15, 15, 14, 17, 12, 14], dtype=int32)"
      ]
     },
     "execution_count": 14,
     "metadata": {},
     "output_type": "execute_result"
    }
   ],
   "source": [
    "# gathering an array of random intergers within a range\n",
    "np.random.randint(10,20,10)"
   ]
  },
  {
   "cell_type": "markdown",
   "id": "8399cd32",
   "metadata": {},
   "source": [
    "We can also create a random matrix by providing a shape. For example, let's create an array of integers in between 1 and 100, the matrix contains 2 rows and 4 columns. "
   ]
  },
  {
   "cell_type": "code",
   "execution_count": 23,
   "id": "4ae41099",
   "metadata": {},
   "outputs": [
    {
     "data": {
      "text/plain": [
       "array([[298, 665, 359, 637, 699, 724,  42, 461, 245, 136],\n",
       "       [528, 227, 365, 906,  53, 193, 625, 352, 618, 577],\n",
       "       [506, 930, 243, 533, 835, 119, 895, 337, 137, 178],\n",
       "       [125, 661, 781, 453, 940, 666, 529, 944, 919,  40],\n",
       "       [ 53, 102, 306, 882, 343,   6, 614, 823, 130,   1],\n",
       "       [ 53, 282, 629, 778, 795,  90, 558, 913, 266, 860],\n",
       "       [685, 838, 804, 712,  35, 599,  78, 445, 909, 701],\n",
       "       [386, 942, 134, 255, 223, 175, 873, 439, 137, 970],\n",
       "       [927, 989, 326, 547, 974, 450,  36, 809, 196, 464],\n",
       "       [139,  56, 872, 727, 115, 605, 438, 172, 166, 524]], dtype=int32)"
      ]
     },
     "execution_count": 23,
     "metadata": {},
     "output_type": "execute_result"
    }
   ],
   "source": [
    "np.random.randint(1,1000,(10,10))"
   ]
  },
  {
   "cell_type": "markdown",
   "id": "248d1ccb",
   "metadata": {},
   "source": [
    "Since all the numbers are randomly generated, if we run all of these functions again we're likely to get completely different values. If we want to generate a random number and keep it throughout a model, we can use the seed function.\n",
    "\n",
    "Seed function tells Python under the hood to \"randomize\" from the same method for any computer.  So, it basically eliminates randomness.  We would do this to ensure reproducibiliy.  But in production, randomization helps in forecasting, so you could disable seed there."
   ]
  },
  {
   "cell_type": "code",
   "execution_count": 21,
   "id": "ad90bbc4",
   "metadata": {},
   "outputs": [
    {
     "data": {
      "text/plain": [
       "array([[875, 665, 250, 644, 953, 969, 257, 790, 660, 715],\n",
       "       [876, 682, 651, 918, 120, 423, 481, 661, 941, 606],\n",
       "       [424, 399, 505, 539, 338, 475, 663, 835, 259, 960],\n",
       "       [317, 642, 948, 859, 582, 873, 623, 610, 414, 619],\n",
       "       [153, 508, 831, 520, 172, 546, 380, 336, 177, 806],\n",
       "       [ 21, 863, 562, 406, 384, 719, 501, 541, 888, 567],\n",
       "       [  1, 705, 275, 373, 960, 678, 185, 953, 968, 166],\n",
       "       [766, 687, 546, 114,   2, 854, 118, 888, 971, 748],\n",
       "       [893, 997, 612, 732, 913, 512, 849, 673, 913, 275],\n",
       "       [844, 184, 865, 224, 142, 422, 415, 561, 958, 290]], dtype=int32)"
      ]
     },
     "execution_count": 21,
     "metadata": {},
     "output_type": "execute_result"
    }
   ],
   "source": [
    "# fixing the randomizer to get the same random values for reproduction\n",
    "np.random.seed(3)\n",
    "np.random.randint(1,1000,(10,10))"
   ]
  },
  {
   "cell_type": "markdown",
   "id": "e3096011",
   "metadata": {},
   "source": [
    "If we remove the seed line, we'll get 3 different values every time we run the code."
   ]
  },
  {
   "cell_type": "code",
   "execution_count": null,
   "id": "d3d9847a",
   "metadata": {},
   "outputs": [],
   "source": [
    "# without the seed\n"
   ]
  },
  {
   "cell_type": "markdown",
   "id": "14c3af7d",
   "metadata": {},
   "source": [
    "If we run the same code again, adding back the seed, we get the same result."
   ]
  },
  {
   "cell_type": "code",
   "execution_count": null,
   "id": "dabb8da6",
   "metadata": {},
   "outputs": [],
   "source": []
  },
  {
   "cell_type": "markdown",
   "id": "933ed2e1",
   "metadata": {},
   "source": [
    "## Importing External Data with Pandas DataReader\n",
    "\n",
    "Rather than defining our data manually, we can leverage functionality within Pandas to connect to and import external data into our notebook.\n",
    "\n",
    "Functions from `pandas_datareader.data` extract external data from the web into a Pandas DataFrame. We'll look at an example of using datareader to import financial data from Naver."
   ]
  },
  {
   "cell_type": "code",
   "execution_count": 36,
   "id": "4eef7894",
   "metadata": {},
   "outputs": [],
   "source": [
    "# Import Packages\n",
    "import pandas as pd\n",
    "import pandas_datareader.data as pdr\n",
    "# The second argument is the data source we want to connect to - in our example it's naver\n",
    "\n",
    "# The first argument is the specific stock or index we want to retrive data for\n",
    "# 005930 corresponds to Samsung on the KOSPI index\n",
    "\n",
    "# We also need to define the start and end date for the days of information that we want to import into our DataFrame\n",
    "#pdr.DataReader('005930','naver','2022-01-01','2022-01-31')"
   ]
  },
  {
   "cell_type": "markdown",
   "id": "8c661624",
   "metadata": {},
   "source": [
    "We can use functions from the `yfinance` package to connect to yahoo finance data for a particular stock, in this case an ETF that tracks the S&P 500 stock market index. This time we can define our arguments outside of the function. This will make them easier to find and change in the future. We can also store the resulting DataFrame for future use in our notebook."
   ]
  },
  {
   "cell_type": "code",
   "execution_count": 30,
   "id": "70bf5664",
   "metadata": {},
   "outputs": [
    {
     "ename": "NameError",
     "evalue": "name 'pdr' is not defined",
     "output_type": "error",
     "traceback": [
      "\u001b[31m---------------------------------------------------------------------------\u001b[39m",
      "\u001b[31mNameError\u001b[39m                                 Traceback (most recent call last)",
      "\u001b[36mCell\u001b[39m\u001b[36m \u001b[39m\u001b[32mIn[30]\u001b[39m\u001b[32m, line 7\u001b[39m\n\u001b[32m      4\u001b[39m startdate = \u001b[33m'\u001b[39m\u001b[33m2021-01-01\u001b[39m\u001b[33m'\u001b[39m\n\u001b[32m      5\u001b[39m enddate = \u001b[33m'\u001b[39m\u001b[33m2024-12-31\u001b[39m\u001b[33m'\u001b[39m\n\u001b[32m----> \u001b[39m\u001b[32m7\u001b[39m stocks_df = \u001b[43mpdr\u001b[49m.DataReader(stock, source, startdate,enddate)\n\u001b[32m      8\u001b[39m \u001b[38;5;28mprint\u001b[39m(stocks_df)\n",
      "\u001b[31mNameError\u001b[39m: name 'pdr' is not defined"
     ]
    }
   ],
   "source": [
    "# Import yfinance for yahoo data\n",
    "stock = 'tsla'\n",
    "source = 'yahoo'\n",
    "startdate = '2021-01-01'\n",
    "enddate = '2024-12-31'\n",
    "\n",
    "stocks_df = pdr.DataReader(stock, source, startdate,enddate)\n",
    "print(stocks_df)"
   ]
  },
  {
   "cell_type": "markdown",
   "id": "5bec5826",
   "metadata": {},
   "source": [
    "## Importing External .csv\n",
    "\n",
    "One of the more powerful ways of creating a DataFrame is to import a .csv file. This will save tremendous amount of time in recreating a data source in Python and allow Python to read the data in. We can use the `pd.read.csv()` function to do this.\n",
    "\n",
    "When using this function, either the relative file path or the complete file path must be submitted between quotation marks. For a relative file path, if the csv. file is in the same working directory folder as the notebook, you can simply submit the file name with the csv. suffix. \n",
    "\n",
    "If the file is in another folder, then you must provide extra information of the path pandas should take to refer to the file (ie. 'datafolder/Data Source.csv')."
   ]
  },
  {
   "cell_type": "code",
   "execution_count": 42,
   "id": "8ec98fb0",
   "metadata": {
    "scrolled": true
   },
   "outputs": [
    {
     "name": "stdout",
     "output_type": "stream",
     "text": [
      "      Store                Date  CategoryID ProductID        Q1         Q2  \\\n",
      "0         1   3/10/2019 0:00:00           1  11XXRP-P  24924.50   46039.49   \n",
      "1         1    6/4/2019 0:00:00           2  12XXRP-Q  50605.27   44682.74   \n",
      "2         1   1/16/2019 0:00:00           3    13XXRP  13740.12   10887.84   \n",
      "3         1  10/18/2019 0:00:00           4    14XXRP  39954.04  d35351.21   \n",
      "4         1   4/11/2019 0:00:00           5  15XXRP-A  32229.38   29620.81   \n",
      "...     ...                 ...         ...       ...       ...        ...   \n",
      "1882     40   3/24/2019 0:00:00          44  4044XXRP   3280.00    3556.22   \n",
      "1883     40   3/24/2019 0:00:00          44  4044XXRP   3280.00    3556.22   \n",
      "1884     40   3/24/2019 0:00:00          44  4044XXRP   3280.00    3556.22   \n",
      "1885     40   9/30/2019 0:00:00          49  4049XXRP      0.00        NaN   \n",
      "1886     40   6/14/2019 0:00:00          43  4093XXRP  31080.68   26600.39   \n",
      "\n",
      "            Q3        Q4  \n",
      "0     41595.55       NaN  \n",
      "1     47928.89       NaN  \n",
      "2     11523.47       NaN  \n",
      "3     36826.95       NaN  \n",
      "4     26468.27       NaN  \n",
      "...        ...       ...  \n",
      "1882   2965.33   3041.41  \n",
      "1883   2965.33   3041.41  \n",
      "1884   2965.33   3041.41  \n",
      "1885       NaN    -23.99  \n",
      "1886  23709.23  22879.37  \n",
      "\n",
      "[1887 rows x 8 columns]\n"
     ]
    }
   ],
   "source": [
    "# Importing an external .csv using a relative file path\n",
    "datafram3 = pd.read_csv('C:\\\\Users\\\\WY343EH\\\\Downloads\\\\Projects\\\\Python\\\\Python Fundamentals - Learner Files\\\\C2 - Loading & Cleaning Data\\\\1 - Start\\\\Data Source.csv')\n",
    "\n",
    "# Use datafram3 instead of dataframe4\n",
    "print(datafram3)\n"
   ]
  },
  {
   "cell_type": "markdown",
   "id": "d27abcf3",
   "metadata": {},
   "source": [
    "We will continue to work with .csv data in Python in the next section of this chapter. However, much like what we see in a real-world setting, data is not always perfect. We can see that we have errors in our data, such as NaN values and duplicates."
   ]
  }
 ],
 "metadata": {
  "kernelspec": {
   "display_name": "Python 3 (ipykernel)",
   "language": "python",
   "name": "python3"
  },
  "language_info": {
   "codemirror_mode": {
    "name": "ipython",
    "version": 3
   },
   "file_extension": ".py",
   "mimetype": "text/x-python",
   "name": "python",
   "nbconvert_exporter": "python",
   "pygments_lexer": "ipython3",
   "version": "3.13.3"
  }
 },
 "nbformat": 4,
 "nbformat_minor": 5
}
