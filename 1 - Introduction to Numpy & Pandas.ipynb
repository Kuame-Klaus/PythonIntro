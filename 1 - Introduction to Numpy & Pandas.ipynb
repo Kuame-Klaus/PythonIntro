{
 "cells": [
  {
   "cell_type": "markdown",
   "id": "6c93a39f",
   "metadata": {},
   "source": [
    "# Introduction to NumPy & Pandas"
   ]
  },
  {
   "cell_type": "markdown",
   "id": "8f335139",
   "metadata": {},
   "source": [
    "# NumPy\n",
    "NumPy is a python library used for working with large, multi-dimentional arrays. It also has a large collection of mathmatical functions to operate on these arrays. Some uses of NumPy include:\n",
    "1. Scientific domains of statistical computing, image processing, and mathematical analysis\n",
    "2. Data Science for ETL, Exploratory Data Analysis, and Modeling\n",
    "3. Machine Learning\n",
    "4. Data Visualization\n",
    "\n",
    "Let's import numpy as np."
   ]
  },
  {
   "cell_type": "code",
   "execution_count": 8,
   "id": "a986019e-8091-4b90-9978-27c495a429d7",
   "metadata": {},
   "outputs": [
    {
     "name": "stdout",
     "output_type": "stream",
     "text": [
      "Collecting numpy\n",
      "  Downloading numpy-2.2.5-cp313-cp313-win_amd64.whl.metadata (60 kB)\n",
      "Downloading numpy-2.2.5-cp313-cp313-win_amd64.whl (12.6 MB)\n",
      "   ---------------------------------------- 0.0/12.6 MB ? eta -:--:--\n",
      "   ---------------------------------------- 0.0/12.6 MB ? eta -:--:--\n",
      "    --------------------------------------- 0.3/12.6 MB ? eta -:--:--\n",
      "   - -------------------------------------- 0.5/12.6 MB 1.1 MB/s eta 0:00:11\n",
      "   -- ------------------------------------- 0.8/12.6 MB 993.3 kB/s eta 0:00:12\n",
      "   -- ------------------------------------- 0.8/12.6 MB 993.3 kB/s eta 0:00:12\n",
      "   -- ------------------------------------- 0.8/12.6 MB 993.3 kB/s eta 0:00:12\n",
      "   -- ------------------------------------- 0.8/12.6 MB 993.3 kB/s eta 0:00:12\n",
      "   -- ------------------------------------- 0.8/12.6 MB 993.3 kB/s eta 0:00:12\n",
      "   -- ------------------------------------- 0.8/12.6 MB 993.3 kB/s eta 0:00:12\n",
      "   -- ------------------------------------- 0.8/12.6 MB 993.3 kB/s eta 0:00:12\n",
      "   -- ------------------------------------- 0.8/12.6 MB 993.3 kB/s eta 0:00:12\n",
      "   -- ------------------------------------- 0.8/12.6 MB 993.3 kB/s eta 0:00:12\n",
      "   -- ------------------------------------- 0.8/12.6 MB 993.3 kB/s eta 0:00:12\n",
      "   -- ------------------------------------- 0.8/12.6 MB 993.3 kB/s eta 0:00:12\n",
      "   -- ------------------------------------- 0.8/12.6 MB 993.3 kB/s eta 0:00:12\n",
      "   -- ------------------------------------- 0.8/12.6 MB 993.3 kB/s eta 0:00:12\n",
      "   -- ------------------------------------- 0.8/12.6 MB 993.3 kB/s eta 0:00:12\n",
      "   -- ------------------------------------- 0.8/12.6 MB 993.3 kB/s eta 0:00:12\n",
      "   -- ------------------------------------- 0.8/12.6 MB 993.3 kB/s eta 0:00:12\n",
      "   -- ------------------------------------- 0.8/12.6 MB 993.3 kB/s eta 0:00:12\n",
      "   -- ------------------------------------- 0.8/12.6 MB 993.3 kB/s eta 0:00:12\n",
      "   -- ------------------------------------- 0.8/12.6 MB 993.3 kB/s eta 0:00:12\n",
      "   -- ------------------------------------- 0.8/12.6 MB 993.3 kB/s eta 0:00:12\n",
      "   -- ------------------------------------- 0.8/12.6 MB 993.3 kB/s eta 0:00:12\n",
      "   -- ------------------------------------- 0.8/12.6 MB 993.3 kB/s eta 0:00:12\n",
      "   -- ------------------------------------- 0.8/12.6 MB 993.3 kB/s eta 0:00:12\n",
      "   -- ------------------------------------- 0.8/12.6 MB 993.3 kB/s eta 0:00:12\n",
      "   -- ------------------------------------- 0.8/12.6 MB 993.3 kB/s eta 0:00:12\n",
      "   -- ------------------------------------- 0.8/12.6 MB 993.3 kB/s eta 0:00:12\n",
      "   -- ------------------------------------- 0.8/12.6 MB 993.3 kB/s eta 0:00:12\n",
      "   -- ------------------------------------- 0.8/12.6 MB 993.3 kB/s eta 0:00:12\n",
      "   -- ------------------------------------- 0.8/12.6 MB 993.3 kB/s eta 0:00:12\n",
      "   -- ------------------------------------- 0.8/12.6 MB 993.3 kB/s eta 0:00:12\n",
      "   -- ------------------------------------- 0.8/12.6 MB 993.3 kB/s eta 0:00:12\n",
      "   -- ------------------------------------- 0.8/12.6 MB 993.3 kB/s eta 0:00:12\n",
      "   -- ------------------------------------- 0.8/12.6 MB 993.3 kB/s eta 0:00:12\n",
      "   -- ------------------------------------- 0.8/12.6 MB 993.3 kB/s eta 0:00:12\n",
      "   -- ------------------------------------- 0.8/12.6 MB 993.3 kB/s eta 0:00:12\n",
      "   -- ------------------------------------- 0.8/12.6 MB 993.3 kB/s eta 0:00:12\n",
      "   -- ------------------------------------- 0.8/12.6 MB 993.3 kB/s eta 0:00:12\n",
      "   -- ------------------------------------- 0.8/12.6 MB 993.3 kB/s eta 0:00:12\n",
      "   -- ------------------------------------- 0.8/12.6 MB 993.3 kB/s eta 0:00:12\n",
      "   -- ------------------------------------- 0.8/12.6 MB 993.3 kB/s eta 0:00:12\n",
      "   -- ------------------------------------- 0.8/12.6 MB 993.3 kB/s eta 0:00:12\n",
      "   -- ------------------------------------- 0.8/12.6 MB 993.3 kB/s eta 0:00:12\n",
      "   -- ------------------------------------- 0.8/12.6 MB 993.3 kB/s eta 0:00:12\n",
      "   --- ------------------------------------ 1.0/12.6 MB 79.8 kB/s eta 0:02:26\n",
      "   --- ------------------------------------ 1.0/12.6 MB 79.8 kB/s eta 0:02:26\n",
      "   --- ------------------------------------ 1.0/12.6 MB 79.8 kB/s eta 0:02:26\n",
      "   --- ------------------------------------ 1.0/12.6 MB 79.8 kB/s eta 0:02:26\n",
      "   --- ------------------------------------ 1.0/12.6 MB 79.8 kB/s eta 0:02:26\n",
      "   --- ------------------------------------ 1.0/12.6 MB 79.8 kB/s eta 0:02:26\n",
      "   --- ------------------------------------ 1.0/12.6 MB 79.8 kB/s eta 0:02:26\n",
      "   --- ------------------------------------ 1.0/12.6 MB 79.8 kB/s eta 0:02:26\n",
      "   --- ------------------------------------ 1.0/12.6 MB 79.8 kB/s eta 0:02:26\n",
      "   --- ------------------------------------ 1.0/12.6 MB 79.8 kB/s eta 0:02:26\n",
      "   --- ------------------------------------ 1.0/12.6 MB 79.8 kB/s eta 0:02:26\n",
      "   --- ------------------------------------ 1.0/12.6 MB 79.8 kB/s eta 0:02:26\n",
      "   --- ------------------------------------ 1.0/12.6 MB 79.8 kB/s eta 0:02:26\n",
      "   --- ------------------------------------ 1.0/12.6 MB 79.8 kB/s eta 0:02:26\n",
      "   --- ------------------------------------ 1.0/12.6 MB 79.8 kB/s eta 0:02:26\n",
      "   --- ------------------------------------ 1.0/12.6 MB 79.8 kB/s eta 0:02:26\n",
      "   ---- ----------------------------------- 1.3/12.6 MB 79.3 kB/s eta 0:02:23\n",
      "   ---- ----------------------------------- 1.3/12.6 MB 79.3 kB/s eta 0:02:23\n",
      "   ---- ----------------------------------- 1.3/12.6 MB 79.3 kB/s eta 0:02:23\n",
      "   ---- ----------------------------------- 1.6/12.6 MB 93.1 kB/s eta 0:01:59\n",
      "   ---- ----------------------------------- 1.6/12.6 MB 93.1 kB/s eta 0:01:59\n",
      "   ---- ----------------------------------- 1.6/12.6 MB 93.1 kB/s eta 0:01:59\n",
      "   ---- ----------------------------------- 1.6/12.6 MB 93.1 kB/s eta 0:01:59\n",
      "   ---- ----------------------------------- 1.6/12.6 MB 93.1 kB/s eta 0:01:59\n",
      "   ---- ----------------------------------- 1.6/12.6 MB 93.1 kB/s eta 0:01:59\n",
      "   ----- ---------------------------------- 1.8/12.6 MB 102.7 kB/s eta 0:01:46\n",
      "   ----- ---------------------------------- 1.8/12.6 MB 102.7 kB/s eta 0:01:46\n",
      "   ----- ---------------------------------- 1.8/12.6 MB 102.7 kB/s eta 0:01:46\n",
      "   ----- ---------------------------------- 1.8/12.6 MB 102.7 kB/s eta 0:01:46\n",
      "   ----- ---------------------------------- 1.8/12.6 MB 102.7 kB/s eta 0:01:46\n",
      "   ----- ---------------------------------- 1.8/12.6 MB 102.7 kB/s eta 0:01:46\n",
      "   ----- ---------------------------------- 1.8/12.6 MB 102.7 kB/s eta 0:01:46\n",
      "   ----- ---------------------------------- 1.8/12.6 MB 102.7 kB/s eta 0:01:46\n",
      "   ----- ---------------------------------- 1.8/12.6 MB 102.7 kB/s eta 0:01:46\n",
      "   ------ --------------------------------- 2.1/12.6 MB 106.9 kB/s eta 0:01:39\n",
      "   ------ --------------------------------- 2.1/12.6 MB 106.9 kB/s eta 0:01:39\n",
      "   ------ --------------------------------- 2.1/12.6 MB 106.9 kB/s eta 0:01:39\n",
      "   ------ --------------------------------- 2.1/12.6 MB 106.9 kB/s eta 0:01:39\n",
      "   ------- -------------------------------- 2.4/12.6 MB 116.2 kB/s eta 0:01:29\n",
      "   ------- -------------------------------- 2.4/12.6 MB 116.2 kB/s eta 0:01:29\n",
      "   ------- -------------------------------- 2.4/12.6 MB 116.2 kB/s eta 0:01:29\n",
      "   ------- -------------------------------- 2.4/12.6 MB 116.2 kB/s eta 0:01:29\n",
      "   -------- ------------------------------- 2.6/12.6 MB 123.8 kB/s eta 0:01:21\n",
      "   -------- ------------------------------- 2.6/12.6 MB 123.8 kB/s eta 0:01:21\n",
      "   -------- ------------------------------- 2.6/12.6 MB 123.8 kB/s eta 0:01:21\n",
      "   -------- ------------------------------- 2.6/12.6 MB 123.8 kB/s eta 0:01:21\n",
      "   --------- ------------------------------ 2.9/12.6 MB 132.9 kB/s eta 0:01:14\n",
      "   --------- ------------------------------ 2.9/12.6 MB 132.9 kB/s eta 0:01:14\n",
      "   --------- ------------------------------ 2.9/12.6 MB 132.9 kB/s eta 0:01:14\n",
      "   --------- ------------------------------ 3.1/12.6 MB 140.5 kB/s eta 0:01:08\n",
      "   --------- ------------------------------ 3.1/12.6 MB 140.5 kB/s eta 0:01:08\n",
      "   --------- ------------------------------ 3.1/12.6 MB 140.5 kB/s eta 0:01:08\n",
      "   --------- ------------------------------ 3.1/12.6 MB 140.5 kB/s eta 0:01:08\n",
      "   --------- ------------------------------ 3.1/12.6 MB 140.5 kB/s eta 0:01:08\n",
      "   --------- ------------------------------ 3.1/12.6 MB 140.5 kB/s eta 0:01:08\n",
      "   --------- ------------------------------ 3.1/12.6 MB 140.5 kB/s eta 0:01:08\n",
      "   --------- ------------------------------ 3.1/12.6 MB 140.5 kB/s eta 0:01:08\n",
      "   --------- ------------------------------ 3.1/12.6 MB 140.5 kB/s eta 0:01:08\n",
      "   --------- ------------------------------ 3.1/12.6 MB 140.5 kB/s eta 0:01:08\n",
      "   --------- ------------------------------ 3.1/12.6 MB 140.5 kB/s eta 0:01:08\n",
      "   --------- ------------------------------ 3.1/12.6 MB 140.5 kB/s eta 0:01:08\n",
      "   ---------- ----------------------------- 3.4/12.6 MB 136.3 kB/s eta 0:01:08\n",
      "   ---------- ----------------------------- 3.4/12.6 MB 136.3 kB/s eta 0:01:08\n",
      "   ---------- ----------------------------- 3.4/12.6 MB 136.3 kB/s eta 0:01:08\n",
      "   ----------- ---------------------------- 3.7/12.6 MB 143.9 kB/s eta 0:01:03\n",
      "   ----------- ---------------------------- 3.7/12.6 MB 143.9 kB/s eta 0:01:03\n",
      "   ----------- ---------------------------- 3.7/12.6 MB 143.9 kB/s eta 0:01:03\n",
      "   ----------- ---------------------------- 3.7/12.6 MB 143.9 kB/s eta 0:01:03\n",
      "   ------------ --------------------------- 3.9/12.6 MB 150.0 kB/s eta 0:00:59\n",
      "   ------------ --------------------------- 3.9/12.6 MB 150.0 kB/s eta 0:00:59\n",
      "   ------------- -------------------------- 4.2/12.6 MB 157.0 kB/s eta 0:00:54\n",
      "   ------------- -------------------------- 4.2/12.6 MB 157.0 kB/s eta 0:00:54\n",
      "   ------------- -------------------------- 4.2/12.6 MB 157.0 kB/s eta 0:00:54\n",
      "   ------------- -------------------------- 4.2/12.6 MB 157.0 kB/s eta 0:00:54\n",
      "   -------------- ------------------------- 4.5/12.6 MB 162.7 kB/s eta 0:00:51\n",
      "   -------------- ------------------------- 4.5/12.6 MB 162.7 kB/s eta 0:00:51\n",
      "   -------------- ------------------------- 4.7/12.6 MB 169.7 kB/s eta 0:00:47\n",
      "   -------------- ------------------------- 4.7/12.6 MB 169.7 kB/s eta 0:00:47\n",
      "   -------------- ------------------------- 4.7/12.6 MB 169.7 kB/s eta 0:00:47\n",
      "   -------------- ------------------------- 4.7/12.6 MB 169.7 kB/s eta 0:00:47\n",
      "   -------------- ------------------------- 4.7/12.6 MB 169.7 kB/s eta 0:00:47\n",
      "   --------------- ------------------------ 5.0/12.6 MB 171.9 kB/s eta 0:00:45\n",
      "   --------------- ------------------------ 5.0/12.6 MB 171.9 kB/s eta 0:00:45\n",
      "   --------------- ------------------------ 5.0/12.6 MB 171.9 kB/s eta 0:00:45\n",
      "   ---------------- ----------------------- 5.2/12.6 MB 177.3 kB/s eta 0:00:42\n",
      "   ---------------- ----------------------- 5.2/12.6 MB 177.3 kB/s eta 0:00:42\n",
      "   ---------------- ----------------------- 5.2/12.6 MB 177.3 kB/s eta 0:00:42\n",
      "   ---------------- ----------------------- 5.2/12.6 MB 177.3 kB/s eta 0:00:42\n",
      "   ----------------- ---------------------- 5.5/12.6 MB 181.7 kB/s eta 0:00:40\n",
      "   ----------------- ---------------------- 5.5/12.6 MB 181.7 kB/s eta 0:00:40\n",
      "   ------------------ --------------------- 5.8/12.6 MB 187.9 kB/s eta 0:00:37\n",
      "   ------------------ --------------------- 5.8/12.6 MB 187.9 kB/s eta 0:00:37\n",
      "   ------------------- -------------------- 6.0/12.6 MB 194.4 kB/s eta 0:00:34\n",
      "   ------------------- -------------------- 6.3/12.6 MB 193.7 kB/s eta 0:00:33\n",
      "   ------------------- -------------------- 6.3/12.6 MB 193.7 kB/s eta 0:00:33\n",
      "   -------------------- ------------------- 6.6/12.6 MB 266.1 kB/s eta 0:00:23\n",
      "   -------------------- ------------------- 6.6/12.6 MB 266.1 kB/s eta 0:00:23\n",
      "   --------------------- ------------------ 6.8/12.6 MB 273.3 kB/s eta 0:00:22\n",
      "   --------------------- ------------------ 6.8/12.6 MB 273.3 kB/s eta 0:00:22\n",
      "   ---------------------- ----------------- 7.1/12.6 MB 280.0 kB/s eta 0:00:20\n",
      "   ---------------------- ----------------- 7.1/12.6 MB 280.0 kB/s eta 0:00:20\n",
      "   ----------------------- ---------------- 7.3/12.6 MB 286.6 kB/s eta 0:00:19\n",
      "   ------------------------ --------------- 7.6/12.6 MB 295.2 kB/s eta 0:00:18\n",
      "   ------------------------ --------------- 7.6/12.6 MB 295.2 kB/s eta 0:00:18\n",
      "   ------------------------ --------------- 7.9/12.6 MB 301.0 kB/s eta 0:00:16\n",
      "   ------------------------- -------------- 8.1/12.6 MB 309.0 kB/s eta 0:00:15\n",
      "   ------------------------- -------------- 8.1/12.6 MB 309.0 kB/s eta 0:00:15\n",
      "   -------------------------- ------------- 8.4/12.6 MB 314.3 kB/s eta 0:00:14\n",
      "   -------------------------- ------------- 8.4/12.6 MB 314.3 kB/s eta 0:00:14\n",
      "   -------------------------- ------------- 8.4/12.6 MB 314.3 kB/s eta 0:00:14\n",
      "   --------------------------- ------------ 8.7/12.6 MB 317.5 kB/s eta 0:00:13\n",
      "   --------------------------- ------------ 8.7/12.6 MB 317.5 kB/s eta 0:00:13\n",
      "   ---------------------------- ----------- 8.9/12.6 MB 323.7 kB/s eta 0:00:12\n",
      "   ---------------------------- ----------- 8.9/12.6 MB 323.7 kB/s eta 0:00:12\n",
      "   ----------------------------- ---------- 9.2/12.6 MB 329.1 kB/s eta 0:00:11\n",
      "   ----------------------------- ---------- 9.4/12.6 MB 336.6 kB/s eta 0:00:10\n",
      "   ------------------------------ --------- 9.7/12.6 MB 343.3 kB/s eta 0:00:09\n",
      "   ------------------------------- -------- 10.0/12.6 MB 348.8 kB/s eta 0:00:08\n",
      "   ------------------------------- -------- 10.0/12.6 MB 348.8 kB/s eta 0:00:08\n",
      "   ------------------------------- -------- 10.0/12.6 MB 348.8 kB/s eta 0:00:08\n",
      "   ------------------------------- -------- 10.0/12.6 MB 348.8 kB/s eta 0:00:08\n",
      "   ------------------------------- -------- 10.0/12.6 MB 348.8 kB/s eta 0:00:08\n",
      "   ------------------------------- -------- 10.0/12.6 MB 348.8 kB/s eta 0:00:08\n",
      "   --------------------------------- ------ 10.5/12.6 MB 351.4 kB/s eta 0:00:07\n",
      "   --------------------------------- ------ 10.5/12.6 MB 351.4 kB/s eta 0:00:07\n",
      "   ---------------------------------- ----- 10.7/12.6 MB 357.0 kB/s eta 0:00:06\n",
      "   ---------------------------------- ----- 10.7/12.6 MB 357.0 kB/s eta 0:00:06\n",
      "   ---------------------------------- ----- 10.7/12.6 MB 357.0 kB/s eta 0:00:06\n",
      "   ---------------------------------- ----- 11.0/12.6 MB 358.6 kB/s eta 0:00:05\n",
      "   ---------------------------------- ----- 11.0/12.6 MB 358.6 kB/s eta 0:00:05\n",
      "   ---------------------------------- ----- 11.0/12.6 MB 358.6 kB/s eta 0:00:05\n",
      "   ----------------------------------- ---- 11.3/12.6 MB 359.2 kB/s eta 0:00:04\n",
      "   ----------------------------------- ---- 11.3/12.6 MB 359.2 kB/s eta 0:00:04\n",
      "   ----------------------------------- ---- 11.3/12.6 MB 359.2 kB/s eta 0:00:04\n",
      "   ------------------------------------ --- 11.5/12.6 MB 361.2 kB/s eta 0:00:04\n",
      "   ------------------------------------- -- 11.8/12.6 MB 366.0 kB/s eta 0:00:03\n",
      "   ------------------------------------- -- 11.8/12.6 MB 366.0 kB/s eta 0:00:03\n",
      "   -------------------------------------- - 12.1/12.6 MB 369.9 kB/s eta 0:00:02\n",
      "   -------------------------------------- - 12.3/12.6 MB 413.1 kB/s eta 0:00:01\n",
      "   -------------------------------------- - 12.3/12.6 MB 413.1 kB/s eta 0:00:01\n",
      "   ---------------------------------------- 12.6/12.6 MB 417.7 kB/s eta 0:00:00\n",
      "Installing collected packages: numpy\n",
      "Successfully installed numpy-2.2.5\n",
      "Note: you may need to restart the kernel to use updated packages.\n"
     ]
    }
   ],
   "source": [
    "pip install numpy "
   ]
  },
  {
   "cell_type": "code",
   "execution_count": 11,
   "id": "350fb354",
   "metadata": {},
   "outputs": [],
   "source": [
    "import numpy as np"
   ]
  },
  {
   "cell_type": "code",
   "execution_count": null,
   "id": "d7088561-b703-4599-9cea-63d2dd336533",
   "metadata": {},
   "outputs": [],
   "source": [
    " "
   ]
  },
  {
   "cell_type": "markdown",
   "id": "35fa9411",
   "metadata": {},
   "source": [
    "## NumPy Array\n",
    "Let's create an array using the function np.array, and include 3 values in square brackets. You might find the Numpy arrays similar to Python lists that we discussed in the last chapter. The difference is that Numpy arrays perform faster and are more memory efficient. That makes it much easier to process large data sets that are commonly used in machine learning models."
   ]
  },
  {
   "cell_type": "code",
   "execution_count": 10,
   "id": "a0d2c5d4",
   "metadata": {},
   "outputs": [
    {
     "data": {
      "text/plain": [
       "array([0, 1, 2])"
      ]
     },
     "execution_count": 10,
     "metadata": {},
     "output_type": "execute_result"
    }
   ],
   "source": [
    "np.array([0,1,2])"
   ]
  },
  {
   "cell_type": "markdown",
   "id": "7ceb5183",
   "metadata": {},
   "source": [
    "With the array function, we can also create a matrix of values. Let's create an Array_1 with 2 groups of numbers, each group is written within a pair of square brackets. Now let's print Array_1 and we can see the 2 groups listed below."
   ]
  },
  {
   "cell_type": "code",
   "execution_count": 14,
   "id": "fa571fd7",
   "metadata": {},
   "outputs": [
    {
     "name": "stdout",
     "output_type": "stream",
     "text": [
      "[[1 2 3]\n",
      " [4 5 6]]\n"
     ]
    }
   ],
   "source": [
    "# Creating a matrix\n",
    "array_1 =np.array([[1,2,3],[4,5,6]])\n",
    "print(array_1)"
   ]
  },
  {
   "cell_type": "markdown",
   "id": "c9129b5c",
   "metadata": {},
   "source": [
    "We can assign an array with other types of data as well. For example, let's create an Array_2 with 4 numbers in one group, and a mix of string and numbers in another group.\n",
    "\n",
    "The result shows that one string value in the array turns all values into strings even if you did not put quotation marks around the numbers. This is different from Python lists where you can have different types of data in one list."
   ]
  },
  {
   "cell_type": "code",
   "execution_count": 17,
   "id": "ad8b323c",
   "metadata": {},
   "outputs": [
    {
     "name": "stdout",
     "output_type": "stream",
     "text": [
      "[['1' '2' '3']\n",
      " ['hi' 'hello' 'bonjour']\n",
      " ['5' '6' '7']]\n",
      "[['1' '2' '3']\n",
      " ['hi' 'hello' 'bonjour']\n",
      " ['salut' '6' '7']]\n"
     ]
    }
   ],
   "source": [
    "# Arrays in Python can also have words.\n",
    "array_2 =  np.array([[1,2,3],['hi', 'hello', 'bonjour'], [5,6,7]])\n",
    "print(array_2)\n",
    "\n",
    "\n",
    "array_3 =  np.array([[1,2,3],['hi', 'hello', 'bonjour'], ['salut',6,7]])\n",
    "print(array_3)"
   ]
  },
  {
   "cell_type": "markdown",
   "id": "6eff4290",
   "metadata": {},
   "source": [
    "## Operations with NumPy Arrays\n",
    "Once we create a numpy array, we can use the `numpy.shape` to see the dimension of the array. This is an important function because when we start working with bigger and more complex data sets, it can be important to know its shape. Let's look at the shape of Array_1 that we created earlier. The result tells us this array has 2 rows and 3 columns."
   ]
  },
  {
   "cell_type": "code",
   "execution_count": 18,
   "id": "d968dc9a",
   "metadata": {},
   "outputs": [
    {
     "data": {
      "text/plain": [
       "(3, 3)"
      ]
     },
     "execution_count": 18,
     "metadata": {},
     "output_type": "execute_result"
    }
   ],
   "source": [
    "np.shape(array_3)"
   ]
  },
  {
   "cell_type": "markdown",
   "id": "1c2a65f2",
   "metadata": {},
   "source": [
    "To call a particular cell within an array, we use the row and column index to identify the location of the value. Let's try to call the item in row 2 and column 1 and we get the value 4."
   ]
  },
  {
   "cell_type": "code",
   "execution_count": 20,
   "id": "3f0856d9",
   "metadata": {},
   "outputs": [
    {
     "data": {
      "text/plain": [
       "np.str_('7')"
      ]
     },
     "execution_count": 20,
     "metadata": {},
     "output_type": "execute_result"
    }
   ],
   "source": [
    "# Calling a particular cell within array [row, column]\n",
    "#array_3 [1,0]\n",
    "array_2 [2,2]\n"
   ]
  },
  {
   "cell_type": "code",
   "execution_count": 26,
   "id": "84d6871a",
   "metadata": {},
   "outputs": [
    {
     "data": {
      "text/plain": [
       "array([4, 5, 6])"
      ]
     },
     "execution_count": 26,
     "metadata": {},
     "output_type": "execute_result"
    }
   ],
   "source": [
    "# Retrieve the first item (index 0) from the second row (index 1)\n",
    "array_1[1,]"
   ]
  },
  {
   "cell_type": "markdown",
   "id": "0f1836c9",
   "metadata": {},
   "source": [
    "Now let's look at how to access the minimum or maximum value of an array. Still using Array_1 as an example, we can apply `min()` and `max()` function to find the smallest and the largest values in the array."
   ]
  },
  {
   "cell_type": "code",
   "execution_count": 27,
   "id": "af621fd7",
   "metadata": {},
   "outputs": [
    {
     "name": "stdout",
     "output_type": "stream",
     "text": [
      "1\n",
      "6\n"
     ]
    }
   ],
   "source": [
    "print(array_1.min())\n",
    "print(array_1.max())"
   ]
  },
  {
   "cell_type": "markdown",
   "id": "421c72bd",
   "metadata": {},
   "source": [
    "# Pandas\n",
    "\n",
    "The second Python package that we will explore is Pandas. Pandas offers powerful data structures that help analyze and manipulate data. It is an open source Python package that is most widely used for data science and analysis that is built on top of Numpy. \n",
    "\n",
    "Pandas automates tasks that are time consuming and repetitive. Some uses of Pandas include:\n",
    "\n",
    " 1. Data cleaning - systematically clean dirty data\n",
    " 2. Loading and saving data - Easily import data from an external source and export to your local computer\n",
    " 3. Filling data - systematically fill in data\n",
    " 4. Joining data - Merge datasets together\n",
    " 5. Statistical analysis - Run statstistcal analysis on datasets easily"
   ]
  },
  {
   "cell_type": "code",
   "execution_count": 30,
   "id": "f71f8150-98f6-414f-b778-796a60669f25",
   "metadata": {},
   "outputs": [
    {
     "name": "stdout",
     "output_type": "stream",
     "text": [
      "Collecting pandas\n",
      "  Downloading pandas-2.2.3-cp313-cp313-win_amd64.whl.metadata (19 kB)\n",
      "Requirement already satisfied: numpy>=1.26.0 in c:\\users\\wy343eh\\appdata\\local\\programs\\python\\python313\\lib\\site-packages (from pandas) (2.2.5)\n",
      "Requirement already satisfied: python-dateutil>=2.8.2 in c:\\users\\wy343eh\\appdata\\local\\programs\\python\\python313\\lib\\site-packages (from pandas) (2.9.0.post0)\n",
      "Collecting pytz>=2020.1 (from pandas)\n",
      "  Downloading pytz-2025.2-py2.py3-none-any.whl.metadata (22 kB)\n",
      "Collecting tzdata>=2022.7 (from pandas)\n",
      "  Downloading tzdata-2025.2-py2.py3-none-any.whl.metadata (1.4 kB)\n",
      "Requirement already satisfied: six>=1.5 in c:\\users\\wy343eh\\appdata\\local\\programs\\python\\python313\\lib\\site-packages (from python-dateutil>=2.8.2->pandas) (1.17.0)\n",
      "Downloading pandas-2.2.3-cp313-cp313-win_amd64.whl (11.5 MB)\n",
      "   ---------------------------------------- 0.0/11.5 MB ? eta -:--:--\n",
      "   ---------------------------------------- 0.0/11.5 MB ? eta -:--:--\n",
      "   ---------------------------------------- 0.0/11.5 MB ? eta -:--:--\n",
      "    --------------------------------------- 0.3/11.5 MB ? eta -:--:--\n",
      "   - -------------------------------------- 0.5/11.5 MB 1.7 MB/s eta 0:00:07\n",
      "   -- ------------------------------------- 0.8/11.5 MB 1.6 MB/s eta 0:00:07\n",
      "   ---- ----------------------------------- 1.3/11.5 MB 1.4 MB/s eta 0:00:08\n",
      "   ----- ---------------------------------- 1.6/11.5 MB 1.4 MB/s eta 0:00:08\n",
      "   ------ --------------------------------- 1.8/11.5 MB 1.4 MB/s eta 0:00:07\n",
      "   ------- -------------------------------- 2.1/11.5 MB 1.5 MB/s eta 0:00:07\n",
      "   --------- ------------------------------ 2.6/11.5 MB 1.5 MB/s eta 0:00:06\n",
      "   ---------- ----------------------------- 2.9/11.5 MB 1.5 MB/s eta 0:00:06\n",
      "   ----------- ---------------------------- 3.4/11.5 MB 1.6 MB/s eta 0:00:06\n",
      "   ----------- ---------------------------- 3.4/11.5 MB 1.6 MB/s eta 0:00:06\n",
      "   ----------- ---------------------------- 3.4/11.5 MB 1.6 MB/s eta 0:00:06\n",
      "   -------------- ------------------------- 4.2/11.5 MB 1.5 MB/s eta 0:00:05\n",
      "   -------------- ------------------------- 4.2/11.5 MB 1.5 MB/s eta 0:00:05\n",
      "   -------------- ------------------------- 4.2/11.5 MB 1.5 MB/s eta 0:00:05\n",
      "   -------------- ------------------------- 4.2/11.5 MB 1.5 MB/s eta 0:00:05\n",
      "   --------------- ------------------------ 4.5/11.5 MB 1.2 MB/s eta 0:00:06\n",
      "   --------------- ------------------------ 4.5/11.5 MB 1.2 MB/s eta 0:00:06\n",
      "   --------------- ------------------------ 4.5/11.5 MB 1.2 MB/s eta 0:00:06\n",
      "   --------------- ------------------------ 4.5/11.5 MB 1.2 MB/s eta 0:00:06\n",
      "   ---------------- ----------------------- 4.7/11.5 MB 1.1 MB/s eta 0:00:07\n",
      "   ---------------- ----------------------- 4.7/11.5 MB 1.1 MB/s eta 0:00:07\n",
      "   ---------------- ----------------------- 4.7/11.5 MB 1.1 MB/s eta 0:00:07\n",
      "   ----------------- ---------------------- 5.0/11.5 MB 959.8 kB/s eta 0:00:07\n",
      "   ----------------- ---------------------- 5.0/11.5 MB 959.8 kB/s eta 0:00:07\n",
      "   ------------------ --------------------- 5.2/11.5 MB 922.9 kB/s eta 0:00:07\n",
      "   ------------------ --------------------- 5.2/11.5 MB 922.9 kB/s eta 0:00:07\n",
      "   ------------------- -------------------- 5.5/11.5 MB 891.1 kB/s eta 0:00:07\n",
      "   ------------------- -------------------- 5.5/11.5 MB 891.1 kB/s eta 0:00:07\n",
      "   -------------------- ------------------- 5.8/11.5 MB 869.0 kB/s eta 0:00:07\n",
      "   -------------------- ------------------- 5.8/11.5 MB 869.0 kB/s eta 0:00:07\n",
      "   --------------------- ------------------ 6.0/11.5 MB 855.4 kB/s eta 0:00:07\n",
      "   --------------------- ------------------ 6.0/11.5 MB 855.4 kB/s eta 0:00:07\n",
      "   --------------------- ------------------ 6.3/11.5 MB 855.5 kB/s eta 0:00:07\n",
      "   ---------------------- ----------------- 6.6/11.5 MB 853.4 kB/s eta 0:00:06\n",
      "   ---------------------- ----------------- 6.6/11.5 MB 853.4 kB/s eta 0:00:06\n",
      "   ----------------------- ---------------- 6.8/11.5 MB 841.9 kB/s eta 0:00:06\n",
      "   ------------------------ --------------- 7.1/11.5 MB 846.3 kB/s eta 0:00:06\n",
      "   ------------------------ --------------- 7.1/11.5 MB 846.3 kB/s eta 0:00:06\n",
      "   ------------------------- -------------- 7.3/11.5 MB 841.0 kB/s eta 0:00:05\n",
      "   -------------------------- ------------- 7.6/11.5 MB 845.4 kB/s eta 0:00:05\n",
      "   -------------------------- ------------- 7.6/11.5 MB 845.4 kB/s eta 0:00:05\n",
      "   --------------------------- ------------ 7.9/11.5 MB 842.8 kB/s eta 0:00:05\n",
      "   ---------------------------- ----------- 8.1/11.5 MB 841.8 kB/s eta 0:00:04\n",
      "   ----------------------------- ---------- 8.4/11.5 MB 848.1 kB/s eta 0:00:04\n",
      "   ----------------------------- ---------- 8.4/11.5 MB 848.1 kB/s eta 0:00:04\n",
      "   ------------------------------ --------- 8.7/11.5 MB 843.0 kB/s eta 0:00:04\n",
      "   ------------------------------- -------- 8.9/11.5 MB 851.3 kB/s eta 0:00:04\n",
      "   ------------------------------- -------- 9.2/11.5 MB 854.1 kB/s eta 0:00:03\n",
      "   ------------------------------- -------- 9.2/11.5 MB 854.1 kB/s eta 0:00:03\n",
      "   -------------------------------- ------- 9.4/11.5 MB 849.2 kB/s eta 0:00:03\n",
      "   --------------------------------- ------ 9.7/11.5 MB 847.7 kB/s eta 0:00:03\n",
      "   --------------------------------- ------ 9.7/11.5 MB 847.7 kB/s eta 0:00:03\n",
      "   ---------------------------------- ----- 10.0/11.5 MB 846.0 kB/s eta 0:00:02\n",
      "   ---------------------------------- ----- 10.0/11.5 MB 846.0 kB/s eta 0:00:02\n",
      "   ----------------------------------- ---- 10.2/11.5 MB 839.6 kB/s eta 0:00:02\n",
      "   ------------------------------------ --- 10.5/11.5 MB 846.9 kB/s eta 0:00:02\n",
      "   ------------------------------------- -- 10.7/11.5 MB 848.3 kB/s eta 0:00:01\n",
      "   -------------------------------------- - 11.0/11.5 MB 853.0 kB/s eta 0:00:01\n",
      "   ---------------------------------------  11.3/11.5 MB 857.7 kB/s eta 0:00:01\n",
      "   ---------------------------------------  11.3/11.5 MB 857.7 kB/s eta 0:00:01\n",
      "   ---------------------------------------- 11.5/11.5 MB 855.6 kB/s eta 0:00:00\n",
      "Downloading pytz-2025.2-py2.py3-none-any.whl (509 kB)\n",
      "Downloading tzdata-2025.2-py2.py3-none-any.whl (347 kB)\n",
      "Installing collected packages: pytz, tzdata, pandas\n",
      "Successfully installed pandas-2.2.3 pytz-2025.2 tzdata-2025.2\n",
      "Note: you may need to restart the kernel to use updated packages.\n"
     ]
    }
   ],
   "source": [
    "pip install pandas"
   ]
  },
  {
   "cell_type": "code",
   "execution_count": 31,
   "id": "c7def40e",
   "metadata": {},
   "outputs": [],
   "source": [
    "\n",
    "import pandas as pd"
   ]
  },
  {
   "cell_type": "markdown",
   "id": "21e6983f",
   "metadata": {},
   "source": [
    "## Pandas Series\n",
    "The first type of data structure in Pandas is called series. Series is an one-dimensional array with index labels. It can also hold different types of data. Series can be made from lists, dictionaries, and numpy arrays.\n",
    "\n",
    "Series are useful when trying to make simple and organizied data that can be quickly digested.\n",
    "\n",
    "Consider the code below for different types of data that will be used to create a series."
   ]
  },
  {
   "cell_type": "code",
   "execution_count": null,
   "id": "37ae35cf",
   "metadata": {},
   "outputs": [],
   "source": [
    "markers = ['a','b','c'] \n",
    "list_1 = [12,24,36]\n",
    "array_1 = np.array([15,30,45])\n",
    "dict_1 = {'d':20,'e':40,'f':60}"
   ]
  },
  {
   "cell_type": "markdown",
   "id": "e99467f4",
   "metadata": {},
   "source": [
    "We will first apply `list_1` into a series. Please note that Python is case sensitive and series needs to be written with a capital S."
   ]
  },
  {
   "cell_type": "code",
   "execution_count": null,
   "id": "5be8a8da",
   "metadata": {},
   "outputs": [],
   "source": [
    "# Applying list into a series\n"
   ]
  },
  {
   "cell_type": "markdown",
   "id": "a418864d",
   "metadata": {},
   "source": [
    "We see that pandas automatically assigned indexs (0, 1, 2) to the list when the series was created. We can change the index of a series by using the `markers` list we mentioned above by inserting it into the series code."
   ]
  },
  {
   "cell_type": "code",
   "execution_count": null,
   "id": "07dd3f48",
   "metadata": {},
   "outputs": [],
   "source": [
    "# Changing the index of a series\n"
   ]
  },
  {
   "cell_type": "markdown",
   "id": "7f60f921",
   "metadata": {},
   "source": [
    "We can make a series the same way with an array and a dictionary. Using dictionaries to make a series is different, as dictionaries already have their own indicies assigned. The data is inputted the same way, but there is no requirement to add index data."
   ]
  },
  {
   "cell_type": "code",
   "execution_count": null,
   "id": "0f4bbc67",
   "metadata": {
    "scrolled": true
   },
   "outputs": [],
   "source": [
    "# Apply array into a series\n"
   ]
  },
  {
   "cell_type": "code",
   "execution_count": null,
   "id": "5817d847",
   "metadata": {},
   "outputs": [],
   "source": [
    "# Apply dictionary into a series\n"
   ]
  },
  {
   "cell_type": "markdown",
   "id": "0b68935a",
   "metadata": {},
   "source": [
    "We can see that pandas shows what the data type of the series, which in this case is an integer. A series can hold not just integers, but many othe data objects. "
   ]
  },
  {
   "cell_type": "code",
   "execution_count": null,
   "id": "dc555008",
   "metadata": {
    "scrolled": true
   },
   "outputs": [],
   "source": []
  },
  {
   "cell_type": "markdown",
   "id": "1aefcbec",
   "metadata": {},
   "source": [
    "## Operations with Pandas Series\n",
    "Similar to a dictionary, you can use the index of a series to easily look up values. Consider the following gift shop data. We can access a value by calling the index, similar to a dictionary. If we want to see the sales on magnets. We just need to type the series name, and call magnets in square brackets."
   ]
  },
  {
   "cell_type": "code",
   "execution_count": null,
   "id": "d4993ca0",
   "metadata": {},
   "outputs": [],
   "source": []
  },
  {
   "cell_type": "code",
   "execution_count": null,
   "id": "0f1c7b93",
   "metadata": {
    "scrolled": true
   },
   "outputs": [],
   "source": [
    "# Gather a value by the index\n"
   ]
  },
  {
   "cell_type": "markdown",
   "id": "2ee07d8e",
   "metadata": {},
   "source": [
    "One powerful use of a series is performing series operations. Consider the following Q2 data that has different revenue numbers. We can add the two series (Gift_shop_salesQ1, Gift_shop_salesQ2) together as they have the same index and find the bi-annual revenue numbers."
   ]
  },
  {
   "cell_type": "code",
   "execution_count": null,
   "id": "f4ac351a",
   "metadata": {},
   "outputs": [],
   "source": []
  },
  {
   "cell_type": "code",
   "execution_count": null,
   "id": "776256d1",
   "metadata": {
    "scrolled": true
   },
   "outputs": [],
   "source": []
  },
  {
   "cell_type": "markdown",
   "id": "5131ad3c",
   "metadata": {},
   "source": [
    "However, in instances when you are trying to combine series that have different indicies, only the shared indicies amongst the series will return a value, with the rest being null. Since `Gift_shop_salesQ3` introduced new indicies, these indicies that are not present in all three series are left as null."
   ]
  },
  {
   "cell_type": "code",
   "execution_count": null,
   "id": "42b56bc8",
   "metadata": {},
   "outputs": [],
   "source": []
  },
  {
   "cell_type": "code",
   "execution_count": null,
   "id": "efb56b7c",
   "metadata": {},
   "outputs": [],
   "source": []
  },
  {
   "cell_type": "markdown",
   "id": "329cce46",
   "metadata": {},
   "source": [
    "## Pandas DataFrame\n",
    "\n",
    "By far the most frequent use of pandas is the DataFrame. DataFrame is a 2-dimensional data structure that contains rows and columns of data, similar to an Excel table.\n",
    "\n",
    "DataFrames allow us to leverage the power of pandas in ways mentioned earlier in the lesson, such as to clean the data, manipulate the data, and perform statistical analysis.\n",
    "\n",
    "There are multiple ways of creating a DataFrame. The first method that we will look at is creating it with an array."
   ]
  },
  {
   "cell_type": "code",
   "execution_count": null,
   "id": "c5823060",
   "metadata": {},
   "outputs": [],
   "source": []
  },
  {
   "cell_type": "markdown",
   "id": "4f5bd45b",
   "metadata": {},
   "source": [
    "There's no labels on the rows and columns of this numpy array. In order to prepare for the DataFrame, we'll create a list called rows with five characters to lable the five rows, and another list called columns with three characters to label the three columns.\n",
    "\n",
    "We will now generate a DataFrame called dataframe_1, which will contain the information from the `Frames` array as well as the row and column names."
   ]
  },
  {
   "cell_type": "code",
   "execution_count": null,
   "id": "17e563da",
   "metadata": {},
   "outputs": [],
   "source": [
    "\n"
   ]
  },
  {
   "cell_type": "code",
   "execution_count": null,
   "id": "858c1b48",
   "metadata": {},
   "outputs": [],
   "source": []
  },
  {
   "cell_type": "markdown",
   "id": "ea8827bb",
   "metadata": {},
   "source": [
    "Similar to a pandas series, DataFrames can store various types of data, such as integers, strings, lists, etc.\n",
    "\n",
    "We will now create a DataFrame with a dictionary. "
   ]
  },
  {
   "cell_type": "code",
   "execution_count": null,
   "id": "1acc2eb1",
   "metadata": {},
   "outputs": [],
   "source": [
    "\n"
   ]
  },
  {
   "cell_type": "code",
   "execution_count": null,
   "id": "9c6203e0",
   "metadata": {},
   "outputs": [],
   "source": []
  },
  {
   "cell_type": "code",
   "execution_count": null,
   "id": "2a1e83f0",
   "metadata": {},
   "outputs": [],
   "source": []
  }
 ],
 "metadata": {
  "kernelspec": {
   "display_name": "Python 3 (ipykernel)",
   "language": "python",
   "name": "python3"
  },
  "language_info": {
   "codemirror_mode": {
    "name": "ipython",
    "version": 3
   },
   "file_extension": ".py",
   "mimetype": "text/x-python",
   "name": "python",
   "nbconvert_exporter": "python",
   "pygments_lexer": "ipython3",
   "version": "3.13.3"
  }
 },
 "nbformat": 4,
 "nbformat_minor": 5
}
